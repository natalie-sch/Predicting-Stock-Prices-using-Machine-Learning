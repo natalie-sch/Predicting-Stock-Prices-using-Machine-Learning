{
 "cells": [
  {
   "cell_type": "markdown",
   "source": "# Predicting Stock Prices using Machine Learning\n\n### Data Mining, Machine Learning, and Deep Learning\n\nKitti Kresznai (141359) <br>\nAlmut Bohnhoff (141021) <br>\nAnastasiya Vitaliyivna Strohonova (142820) <br>\nNatalie Schober (141354)\n\n",
   "metadata": {
    "tags": [],
    "cell_id": "00000-070a00e1-f408-4a4c-b4ea-a79ec046758e",
    "deepnote_cell_type": "markdown"
   }
  },
  {
   "cell_type": "code",
   "metadata": {
    "tags": [],
    "cell_id": "00000-a019039d-0a21-4549-9b6b-8458aba963d3",
    "deepnote_to_be_reexecuted": false,
    "source_hash": "ba15b259",
    "execution_start": 1621954328308,
    "execution_millis": 4441483,
    "deepnote_cell_type": "code"
   },
   "source": "#!pip install yahoo_fin==0.8.8 --ignore-installed\n#!pip install pmdarima==1.8.2 --ignore-installed\n#!pip install tensorflow==2.5.0 --ignore-installed\n\nimport warnings\nwarnings.filterwarnings('ignore')",
   "execution_count": 1,
   "outputs": []
  },
  {
   "cell_type": "markdown",
   "source": "### Data Collection",
   "metadata": {
    "tags": [],
    "cell_id": "00002-c145bb2c-b537-48f5-a180-88b240ec4216",
    "deepnote_cell_type": "markdown"
   }
  },
  {
   "cell_type": "code",
   "metadata": {
    "tags": [],
    "cell_id": "00000-3abc8af6-a309-4da5-b894-538765a950e4",
    "deepnote_to_be_reexecuted": false,
    "source_hash": "5ff1489",
    "execution_start": 1621954328318,
    "execution_millis": 2634,
    "deepnote_cell_type": "code"
   },
   "source": "from yahoo_fin.stock_info import get_data\nimport yahoo_fin.stock_info as si\nimport pandas as pd\n\n# BAC - Bank of America Coporation - financial\n# BA - Boeing Company - industrial manufactoring\n# MDLZ - Mondelez International Inc. - consumer goods\n# PFE - Pfizer - health care \n# GOOG -  Tech industry\nticker_list = ['BAC', 'BA', 'GOOG', 'MDLZ', 'PFE']\n\n\n# get historical time series data for stocks \nhistorical_datas = {}\n\nfor ticker in ticker_list:\n    historical_datas[ticker] = get_data(ticker)\n\nstock_data = pd.concat(historical_datas)\n\n# get data for american indices \nsp = get_data('^GSPC')\ndow = get_data('^DJI')\n\n# clean stock data\nstock_data.reset_index(inplace = True)\nstock_data = stock_data.rename(columns = {'level_1': 'Date'})\nstock_data = stock_data.drop(columns = ['level_0'])\nstock_data['Date']= stock_data['Date'].dt.date\n\n# clean sp500 and dow jones\nsp.reset_index(inplace = True)\ndow.reset_index(inplace = True)\nsp = sp.rename(columns = {'index': 'Date'})\ndow = dow.rename(columns = {'index': 'Date'})\nsp['Date']= sp['Date'].dt.date\ndow['Date']= dow['Date'].dt.date\n\nsp = sp.rename( columns = {'high':'S&P500'})\ndow = dow.rename(columns = {'high': 'DowJones'})\nsp = sp[['Date', 'S&P500']]\ndow = dow[['Date', 'DowJones']]\n\n\n# filter out data from before 2017\nstock_data['Year']=stock_data['Date'].apply(lambda x: x.year)\nsp['Year']=sp['Date'].apply(lambda x: x.year)\ndow['Year']=dow['Date'].apply(lambda x: x.year)\n\nstock_data = stock_data[stock_data['Year']>=2017]\nsp = sp[sp['Year']>=2017]\ndow = dow[dow['Year']>=2017]\nstock_data = stock_data.drop(columns = ['Year'])\nsp = sp.drop(columns = ['Year'])\ndow = dow.drop(columns = ['Year'])\n\ndata = stock_data.merge(sp, how ='left', on = 'Date')\ndata = data.merge(dow, how = 'left', on = 'Date')\n\ndata",
   "execution_count": 2,
   "outputs": [
    {
     "output_type": "execute_result",
     "execution_count": 2,
     "data": {
      "application/vnd.deepnote.dataframe.v2+json": {
       "row_count": 5530,
       "column_count": 10,
       "columns": [
        {
         "name": "Date",
         "dtype": "object",
         "stats": {
          "unique_count": 1106,
          "nan_count": 0,
          "categories": [
           {
            "name": "2017-01-03",
            "count": 5
           },
           {
            "name": "2017-01-04",
            "count": 5
           },
           {
            "name": "1104 others",
            "count": 5520
           }
          ]
         }
        },
        {
         "name": "open",
         "dtype": "float64",
         "stats": {
          "unique_count": 4405,
          "nan_count": 0,
          "min": "19.260000228881836",
          "max": "2420.0",
          "histogram": [
           {
            "bin_start": 19.260000228881836,
            "bin_end": 259.3340002059937,
            "count": 3824
           },
           {
            "bin_start": 259.3340002059937,
            "bin_end": 499.40800018310546,
            "count": 600
           },
           {
            "bin_start": 499.40800018310546,
            "bin_end": 739.4820001602172,
            "count": 0
           },
           {
            "bin_start": 739.4820001602172,
            "bin_end": 979.5560001373291,
            "count": 193
           },
           {
            "bin_start": 979.5560001373291,
            "bin_end": 1219.630000114441,
            "count": 479
           },
           {
            "bin_start": 1219.630000114441,
            "bin_end": 1459.7040000915526,
            "count": 195
           },
           {
            "bin_start": 1459.7040000915526,
            "bin_end": 1699.7780000686646,
            "count": 99
           },
           {
            "bin_start": 1699.7780000686646,
            "bin_end": 1939.8520000457763,
            "count": 62
           },
           {
            "bin_start": 1939.8520000457763,
            "bin_end": 2179.9260000228883,
            "count": 42
           },
           {
            "bin_start": 2179.9260000228883,
            "bin_end": 2420,
            "count": 36
           }
          ]
         }
        },
        {
         "name": "high",
         "dtype": "float64",
         "stats": {
          "unique_count": 4461,
          "nan_count": 0,
          "min": "19.670000076293945",
          "max": "2452.3779296875",
          "histogram": [
           {
            "bin_start": 19.670000076293945,
            "bin_end": 262.94079303741455,
            "count": 3827
           },
           {
            "bin_start": 262.94079303741455,
            "bin_end": 506.21158599853516,
            "count": 597
           },
           {
            "bin_start": 506.21158599853516,
            "bin_end": 749.4823789596558,
            "count": 0
           },
           {
            "bin_start": 749.4823789596558,
            "bin_end": 992.7531719207764,
            "count": 202
           },
           {
            "bin_start": 992.7531719207764,
            "bin_end": 1236.023964881897,
            "count": 485
           },
           {
            "bin_start": 1236.023964881897,
            "bin_end": 1479.2947578430176,
            "count": 184
           },
           {
            "bin_start": 1479.2947578430176,
            "bin_end": 1722.5655508041382,
            "count": 95
           },
           {
            "bin_start": 1722.5655508041382,
            "bin_end": 1965.8363437652588,
            "count": 62
           },
           {
            "bin_start": 1965.8363437652588,
            "bin_end": 2209.1071367263794,
            "count": 41
           },
           {
            "bin_start": 2209.1071367263794,
            "bin_end": 2452.3779296875,
            "count": 37
           }
          ]
         }
        },
        {
         "name": "low",
         "dtype": "float64",
         "stats": {
          "unique_count": 4431,
          "nan_count": 0,
          "min": "17.950000762939453",
          "max": "2406.360107421875",
          "histogram": [
           {
            "bin_start": 17.950000762939453,
            "bin_end": 256.79101142883303,
            "count": 3824
           },
           {
            "bin_start": 256.79101142883303,
            "bin_end": 495.63202209472655,
            "count": 600
           },
           {
            "bin_start": 495.63202209472655,
            "bin_end": 734.4730327606201,
            "count": 0
           },
           {
            "bin_start": 734.4730327606201,
            "bin_end": 973.3140434265136,
            "count": 196
           },
           {
            "bin_start": 973.3140434265136,
            "bin_end": 1212.1550540924072,
            "count": 488
           },
           {
            "bin_start": 1212.1550540924072,
            "bin_end": 1450.9960647583007,
            "count": 190
           },
           {
            "bin_start": 1450.9960647583007,
            "bin_end": 1689.8370754241944,
            "count": 93
           },
           {
            "bin_start": 1689.8370754241944,
            "bin_end": 1928.6780860900878,
            "count": 61
           },
           {
            "bin_start": 1928.6780860900878,
            "bin_end": 2167.5190967559815,
            "count": 42
           },
           {
            "bin_start": 2167.5190967559815,
            "bin_end": 2406.360107421875,
            "count": 36
           }
          ]
         }
        },
        {
         "name": "close",
         "dtype": "float64",
         "stats": {
          "unique_count": 4425,
          "nan_count": 0,
          "min": "18.079999923706055",
          "max": "2429.889892578125",
          "histogram": [
           {
            "bin_start": 18.079999923706055,
            "bin_end": 259.26098918914795,
            "count": 3822
           },
           {
            "bin_start": 259.26098918914795,
            "bin_end": 500.44197845458984,
            "count": 602
           },
           {
            "bin_start": 500.44197845458984,
            "bin_end": 741.6229677200317,
            "count": 0
           },
           {
            "bin_start": 741.6229677200317,
            "bin_end": 982.8039569854736,
            "count": 199
           },
           {
            "bin_start": 982.8039569854736,
            "bin_end": 1223.9849462509155,
            "count": 486
           },
           {
            "bin_start": 1223.9849462509155,
            "bin_end": 1465.1659355163574,
            "count": 188
           },
           {
            "bin_start": 1465.1659355163574,
            "bin_end": 1706.3469247817993,
            "count": 93
           },
           {
            "bin_start": 1706.3469247817993,
            "bin_end": 1947.5279140472412,
            "count": 62
           },
           {
            "bin_start": 1947.5279140472412,
            "bin_end": 2188.708903312683,
            "count": 41
           },
           {
            "bin_start": 2188.708903312683,
            "bin_end": 2429.889892578125,
            "count": 37
           }
          ]
         }
        },
        {
         "name": "adjclose",
         "dtype": "float64",
         "stats": {
          "unique_count": 5214,
          "nan_count": 0,
          "min": "17.632553100585938",
          "max": "2429.889892578125",
          "histogram": [
           {
            "bin_start": 17.632553100585938,
            "bin_end": 258.85828704833983,
            "count": 3852
           },
           {
            "bin_start": 258.85828704833983,
            "bin_end": 500.0840209960937,
            "count": 572
           },
           {
            "bin_start": 500.0840209960937,
            "bin_end": 741.3097549438476,
            "count": 0
           },
           {
            "bin_start": 741.3097549438476,
            "bin_end": 982.5354888916015,
            "count": 199
           },
           {
            "bin_start": 982.5354888916015,
            "bin_end": 1223.7612228393555,
            "count": 485
           },
           {
            "bin_start": 1223.7612228393555,
            "bin_end": 1464.9869567871092,
            "count": 189
           },
           {
            "bin_start": 1464.9869567871092,
            "bin_end": 1706.2126907348631,
            "count": 93
           },
           {
            "bin_start": 1706.2126907348631,
            "bin_end": 1947.438424682617,
            "count": 62
           },
           {
            "bin_start": 1947.438424682617,
            "bin_end": 2188.664158630371,
            "count": 41
           },
           {
            "bin_start": 2188.664158630371,
            "bin_end": 2429.889892578125,
            "count": 37
           }
          ]
         }
        },
        {
         "name": "volume",
         "dtype": "int64",
         "stats": {
          "unique_count": 5458,
          "nan_count": 0,
          "min": "323167",
          "max": "259545800",
          "histogram": [
           {
            "bin_start": 323167,
            "bin_end": 26245430.3,
            "count": 3908
           },
           {
            "bin_start": 26245430.3,
            "bin_end": 52167693.6,
            "count": 834
           },
           {
            "bin_start": 52167693.6,
            "bin_end": 78089956.9,
            "count": 496
           },
           {
            "bin_start": 78089956.9,
            "bin_end": 104012220.2,
            "count": 192
           },
           {
            "bin_start": 104012220.2,
            "bin_end": 129934483.5,
            "count": 63
           },
           {
            "bin_start": 129934483.5,
            "bin_end": 155856746.8,
            "count": 24
           },
           {
            "bin_start": 155856746.8,
            "bin_end": 181779010.1,
            "count": 9
           },
           {
            "bin_start": 181779010.1,
            "bin_end": 207701273.4,
            "count": 2
           },
           {
            "bin_start": 207701273.4,
            "bin_end": 233623536.70000002,
            "count": 1
           },
           {
            "bin_start": 233623536.70000002,
            "bin_end": 259545800,
            "count": 1
           }
          ]
         }
        },
        {
         "name": "ticker",
         "dtype": "object",
         "stats": {
          "unique_count": 5,
          "nan_count": 0,
          "categories": [
           {
            "name": "BAC",
            "count": 1106
           },
           {
            "name": "BA",
            "count": 1106
           },
           {
            "name": "3 others",
            "count": 3318
           }
          ]
         }
        },
        {
         "name": "S&P500",
         "dtype": "float64",
         "stats": {
          "unique_count": 1100,
          "nan_count": 0,
          "min": "2263.8798828125",
          "max": "4238.0400390625",
          "histogram": [
           {
            "bin_start": 2263.8798828125,
            "bin_end": 2461.2958984375,
            "count": 745
           },
           {
            "bin_start": 2461.2958984375,
            "bin_end": 2658.7119140625,
            "count": 715
           },
           {
            "bin_start": 2658.7119140625,
            "bin_end": 2856.1279296875,
            "count": 1365
           },
           {
            "bin_start": 2856.1279296875,
            "bin_end": 3053.5439453125,
            "count": 1035
           },
           {
            "bin_start": 3053.5439453125,
            "bin_end": 3250.9599609375,
            "count": 450
           },
           {
            "bin_start": 3250.9599609375,
            "bin_end": 3448.3759765625,
            "count": 430
           },
           {
            "bin_start": 3448.3759765625,
            "bin_end": 3645.7919921875,
            "count": 180
           },
           {
            "bin_start": 3645.7919921875,
            "bin_end": 3843.2080078125,
            "count": 195
           },
           {
            "bin_start": 3843.2080078125,
            "bin_end": 4040.6240234375,
            "count": 230
           },
           {
            "bin_start": 4040.6240234375,
            "bin_end": 4238.0400390625,
            "count": 185
           }
          ]
         }
        },
        {
         "name": "DowJones",
         "dtype": "float64",
         "stats": {
          "unique_count": 1106,
          "nan_count": 0,
          "min": "19121.009765625",
          "max": "35091.55859375",
          "histogram": [
           {
            "bin_start": 19121.009765625,
            "bin_end": 20718.0646484375,
            "count": 250
           },
           {
            "bin_start": 20718.0646484375,
            "bin_end": 22315.11953125,
            "count": 695
           },
           {
            "bin_start": 22315.11953125,
            "bin_end": 23912.1744140625,
            "count": 415
           },
           {
            "bin_start": 23912.1744140625,
            "bin_end": 25509.229296875,
            "count": 1205
           },
           {
            "bin_start": 25509.229296875,
            "bin_end": 27106.2841796875,
            "count": 1415
           },
           {
            "bin_start": 27106.2841796875,
            "bin_end": 28703.3390625,
            "count": 670
           },
           {
            "bin_start": 28703.3390625,
            "bin_end": 30300.3939453125,
            "count": 340
           },
           {
            "bin_start": 30300.3939453125,
            "bin_end": 31897.448828125,
            "count": 250
           },
           {
            "bin_start": 31897.448828125,
            "bin_end": 33494.5037109375,
            "count": 105
           },
           {
            "bin_start": 33494.5037109375,
            "bin_end": 35091.55859375,
            "count": 185
           }
          ]
         }
        },
        {
         "name": "_deepnote_index_column",
         "dtype": "int64"
        }
       ],
       "rows_top": [
        {
         "Date": "2017-01-03",
         "open": 22.600000381469727,
         "high": 22.68000030517578,
         "low": 22.200000762939453,
         "close": 22.530000686645508,
         "adjclose": 20.63599967956543,
         "volume": 99298100,
         "ticker": "BAC",
         "S&P500": 2263.8798828125,
         "DowJones": 19938.529296875,
         "_deepnote_index_column": 0
        },
        {
         "Date": "2017-01-04",
         "open": 22.719999313354492,
         "high": 22.959999084472656,
         "low": 22.600000381469727,
         "close": 22.950000762939453,
         "adjclose": 21.02069664001465,
         "volume": 76875100,
         "ticker": "BAC",
         "S&P500": 2272.820068359375,
         "DowJones": 19956.140625,
         "_deepnote_index_column": 1
        },
        {
         "Date": "2017-01-05",
         "open": 22.81999969482422,
         "high": 22.93000030517578,
         "low": 22.350000381469727,
         "close": 22.68000030517578,
         "adjclose": 20.773387908935547,
         "volume": 86826400,
         "ticker": "BAC",
         "S&P500": 2271.5,
         "DowJones": 19948.599609375,
         "_deepnote_index_column": 2
        },
        {
         "Date": "2017-01-06",
         "open": 22.780000686645508,
         "high": 22.850000381469727,
         "low": 22.559999465942383,
         "close": 22.68000030517578,
         "adjclose": 20.773387908935547,
         "volume": 66281500,
         "ticker": "BAC",
         "S&P500": 2282.10009765625,
         "DowJones": 19999.630859375,
         "_deepnote_index_column": 3
        },
        {
         "Date": "2017-01-09",
         "open": 22.510000228881836,
         "high": 22.709999084472656,
         "low": 22.399999618530273,
         "close": 22.549999237060547,
         "adjclose": 20.65431785583496,
         "volume": 75901500,
         "ticker": "BAC",
         "S&P500": 2275.489990234375,
         "DowJones": 19943.779296875,
         "_deepnote_index_column": 4
        },
        {
         "Date": "2017-01-10",
         "open": 22.59000015258789,
         "high": 23.139999389648438,
         "low": 22.540000915527344,
         "close": 22.940000534057617,
         "adjclose": 21.011533737182617,
         "volume": 100977700,
         "ticker": "BAC",
         "S&P500": 2279.27001953125,
         "DowJones": 19957.119140625,
         "_deepnote_index_column": 5
        },
        {
         "Date": "2017-01-11",
         "open": 22.940000534057617,
         "high": 23.06999969482422,
         "low": 22.719999313354492,
         "close": 23.06999969482422,
         "adjclose": 21.130605697631836,
         "volume": 92385600,
         "ticker": "BAC",
         "S&P500": 2275.320068359375,
         "DowJones": 19973.419921875,
         "_deepnote_index_column": 6
        },
        {
         "Date": "2017-01-12",
         "open": 23.010000228881836,
         "high": 23.1200008392334,
         "low": 22.610000610351562,
         "close": 22.920000076293945,
         "adjclose": 20.993213653564453,
         "volume": 120474200,
         "ticker": "BAC",
         "S&P500": 2271.780029296875,
         "DowJones": 19929.2890625,
         "_deepnote_index_column": 7
        },
        {
         "Date": "2017-01-13",
         "open": 23.209999084472656,
         "high": 23.40999984741211,
         "low": 22.799999237060547,
         "close": 23.010000228881836,
         "adjclose": 21.07564926147461,
         "volume": 161930900,
         "ticker": "BAC",
         "S&P500": 2278.679931640625,
         "DowJones": 19952.029296875,
         "_deepnote_index_column": 8
        },
        {
         "Date": "2017-01-17",
         "open": 22.68000030517578,
         "high": 22.790000915527344,
         "low": 22.010000228881836,
         "close": 22.049999237060547,
         "adjclose": 20.196352005004883,
         "volume": 152495900,
         "ticker": "BAC",
         "S&P500": 2272.080078125,
         "DowJones": 19882.990234375,
         "_deepnote_index_column": 9
        },
        {
         "Date": "2017-01-18",
         "open": 22.299999237060547,
         "high": 22.649999618530273,
         "low": 22.100000381469727,
         "close": 22.6299991607666,
         "adjclose": 20.727588653564453,
         "volume": 124366000,
         "ticker": "BAC",
         "S&P500": 2272.010009765625,
         "DowJones": 19828.19921875,
         "_deepnote_index_column": 10
        },
        {
         "Date": "2017-01-19",
         "open": 22.729999542236328,
         "high": 22.809999465942383,
         "low": 22.40999984741211,
         "close": 22.530000686645508,
         "adjclose": 20.63599967956543,
         "volume": 75990800,
         "ticker": "BAC",
         "S&P500": 2274.330078125,
         "DowJones": 19824.140625,
         "_deepnote_index_column": 11
        },
        {
         "Date": "2017-01-20",
         "open": 22.65999984741211,
         "high": 22.93000030517578,
         "low": 22.520000457763672,
         "close": 22.639999389648438,
         "adjclose": 20.736751556396484,
         "volume": 102564900,
         "ticker": "BAC",
         "S&P500": 2276.9599609375,
         "DowJones": 19843.939453125,
         "_deepnote_index_column": 12
        },
        {
         "Date": "2017-01-23",
         "open": 22.6200008392334,
         "high": 22.760000228881836,
         "low": 22.420000076293945,
         "close": 22.559999465942383,
         "adjclose": 20.663476943969727,
         "volume": 61385600,
         "ticker": "BAC",
         "S&P500": 2271.780029296875,
         "DowJones": 19833.98046875,
         "_deepnote_index_column": 13
        },
        {
         "Date": "2017-01-24",
         "open": 22.610000610351562,
         "high": 23.100000381469727,
         "low": 22.479999542236328,
         "close": 22.950000762939453,
         "adjclose": 21.02069664001465,
         "volume": 98508700,
         "ticker": "BAC",
         "S&P500": 2284.6298828125,
         "DowJones": 19949.240234375,
         "_deepnote_index_column": 14
        },
        {
         "Date": "2017-01-25",
         "open": 23.31999969482422,
         "high": 23.420000076293945,
         "low": 23.100000381469727,
         "close": 23.3700008392334,
         "adjclose": 21.40538787841797,
         "volume": 99753300,
         "ticker": "BAC",
         "S&P500": 2299.550048828125,
         "DowJones": 20082,
         "_deepnote_index_column": 15
        },
        {
         "Date": "2017-01-26",
         "open": 23.40999984741211,
         "high": 23.549999237060547,
         "low": 23.280000686645508,
         "close": 23.440000534057617,
         "adjclose": 21.469499588012695,
         "volume": 84146400,
         "ticker": "BAC",
         "S&P500": 2300.989990234375,
         "DowJones": 20125.580078125,
         "_deepnote_index_column": 16
        },
        {
         "Date": "2017-01-27",
         "open": 23.43000030517578,
         "high": 23.450000762939453,
         "low": 23.280000686645508,
         "close": 23.360000610351562,
         "adjclose": 21.396224975585938,
         "volume": 54590200,
         "ticker": "BAC",
         "S&P500": 2299.02001953125,
         "DowJones": 20115.970703125,
         "_deepnote_index_column": 17
        },
        {
         "Date": "2017-01-30",
         "open": 23.200000762939453,
         "high": 23.200000762939453,
         "low": 22.709999084472656,
         "close": 22.950000762939453,
         "adjclose": 21.02069664001465,
         "volume": 91561200,
         "ticker": "BAC",
         "S&P500": 2286.010009765625,
         "DowJones": 20028.619140625,
         "_deepnote_index_column": 18
        },
        {
         "Date": "2017-01-31",
         "open": 22.770000457763672,
         "high": 23.030000686645508,
         "low": 22.5,
         "close": 22.639999389648438,
         "adjclose": 20.736751556396484,
         "volume": 91044300,
         "ticker": "BAC",
         "S&P500": 2279.090087890625,
         "DowJones": 19918.169921875,
         "_deepnote_index_column": 19
        },
        {
         "Date": "2017-02-01",
         "open": 22.969999313354492,
         "high": 23.219999313354492,
         "low": 22.81999969482422,
         "close": 22.889999389648438,
         "adjclose": 20.965736389160156,
         "volume": 103630900,
         "ticker": "BAC",
         "S&P500": 2289.139892578125,
         "DowJones": 19967.73046875,
         "_deepnote_index_column": 20
        },
        {
         "Date": "2017-02-02",
         "open": 22.739999771118164,
         "high": 22.790000915527344,
         "low": 22.510000228881836,
         "close": 22.719999313354492,
         "adjclose": 20.810028076171875,
         "volume": 88679100,
         "ticker": "BAC",
         "S&P500": 2283.969970703125,
         "DowJones": 19922.75,
         "_deepnote_index_column": 21
        },
        {
         "Date": "2017-02-03",
         "open": 23.149999618530273,
         "high": 23.350000381469727,
         "low": 22.950000762939453,
         "close": 23.290000915527344,
         "adjclose": 21.332111358642578,
         "volume": 116035100,
         "ticker": "BAC",
         "S&P500": 2298.31005859375,
         "DowJones": 20081.48046875,
         "_deepnote_index_column": 22
        },
        {
         "Date": "2017-02-06",
         "open": 23.149999618530273,
         "high": 23.3799991607666,
         "low": 23.06999969482422,
         "close": 23.1200008392334,
         "adjclose": 21.17640495300293,
         "volume": 92228400,
         "ticker": "BAC",
         "S&P500": 2296.179931640625,
         "DowJones": 20094.94921875,
         "_deepnote_index_column": 23
        },
        {
         "Date": "2017-02-07",
         "open": 23.280000686645508,
         "high": 23.290000915527344,
         "low": 22.860000610351562,
         "close": 22.899999618530273,
         "adjclose": 20.974895477294922,
         "volume": 87982900,
         "ticker": "BAC",
         "S&P500": 2299.39990234375,
         "DowJones": 20155.349609375,
         "_deepnote_index_column": 24
        },
        {
         "Date": "2017-02-08",
         "open": 22.729999542236328,
         "high": 22.729999542236328,
         "low": 22.450000762939453,
         "close": 22.670000076293945,
         "adjclose": 20.764230728149414,
         "volume": 102264500,
         "ticker": "BAC",
         "S&P500": 2295.909912109375,
         "DowJones": 20068.279296875,
         "_deepnote_index_column": 25
        },
        {
         "Date": "2017-02-09",
         "open": 22.760000228881836,
         "high": 23.149999618530273,
         "low": 22.639999389648438,
         "close": 23.1200008392334,
         "adjclose": 21.17640495300293,
         "volume": 102634200,
         "ticker": "BAC",
         "S&P500": 2311.080078125,
         "DowJones": 20206.359375,
         "_deepnote_index_column": 26
        },
        {
         "Date": "2017-02-10",
         "open": 23.190000534057617,
         "high": 23.239999771118164,
         "low": 22.959999084472656,
         "close": 23.079999923706055,
         "adjclose": 21.1397647857666,
         "volume": 90548300,
         "ticker": "BAC",
         "S&P500": 2319.22998046875,
         "DowJones": 20298.2109375,
         "_deepnote_index_column": 27
        },
        {
         "Date": "2017-02-13",
         "open": 23.170000076293945,
         "high": 23.540000915527344,
         "low": 23.170000076293945,
         "close": 23.399999618530273,
         "adjclose": 21.432863235473633,
         "volume": 105342500,
         "ticker": "BAC",
         "S&P500": 2331.580078125,
         "DowJones": 20441.48046875,
         "_deepnote_index_column": 28
        },
        {
         "Date": "2017-02-14",
         "open": 23.399999618530273,
         "high": 24.170000076293945,
         "low": 23.329999923706055,
         "close": 24.059999465942383,
         "adjclose": 22.037378311157227,
         "volume": 139711400,
         "ticker": "BAC",
         "S&P500": 2337.580078125,
         "DowJones": 20504.41015625,
         "_deepnote_index_column": 29
        },
        {
         "Date": "2017-02-15",
         "open": 24.34000015258789,
         "high": 24.770000457763672,
         "low": 24.110000610351562,
         "close": 24.579999923706055,
         "adjclose": 22.51366424560547,
         "volume": 151233300,
         "ticker": "BAC",
         "S&P500": 2351.300048828125,
         "DowJones": 20620.44921875,
         "_deepnote_index_column": 30
        },
        {
         "Date": "2017-02-16",
         "open": 24.540000915527344,
         "high": 24.6200008392334,
         "low": 24.299999237060547,
         "close": 24.579999923706055,
         "adjclose": 22.51366424560547,
         "volume": 98144500,
         "ticker": "BAC",
         "S&P500": 2351.31005859375,
         "DowJones": 20639.869140625,
         "_deepnote_index_column": 31
        },
        {
         "Date": "2017-02-17",
         "open": 24.280000686645508,
         "high": 24.579999923706055,
         "low": 24.200000762939453,
         "close": 24.520000457763672,
         "adjclose": 22.458709716796875,
         "volume": 85789200,
         "ticker": "BAC",
         "S&P500": 2351.159912109375,
         "DowJones": 20624.05078125,
         "_deepnote_index_column": 32
        },
        {
         "Date": "2017-02-21",
         "open": 24.59000015258789,
         "high": 24.799999237060547,
         "low": 24.579999923706055,
         "close": 24.780000686645508,
         "adjclose": 22.696857452392578,
         "volume": 78571500,
         "ticker": "BAC",
         "S&P500": 2366.7099609375,
         "DowJones": 20757.640625,
         "_deepnote_index_column": 33
        },
        {
         "Date": "2017-02-22",
         "open": 24.610000610351562,
         "high": 24.950000762939453,
         "low": 24.540000915527344,
         "close": 24.790000915527344,
         "adjclose": 22.706010818481445,
         "volume": 81531900,
         "ticker": "BAC",
         "S&P500": 2365.1298828125,
         "DowJones": 20781.58984375,
         "_deepnote_index_column": 34
        },
        {
         "Date": "2017-02-23",
         "open": 24.790000915527344,
         "high": 24.889999389648438,
         "low": 24.510000228881836,
         "close": 24.579999923706055,
         "adjclose": 22.51366424560547,
         "volume": 85846000,
         "ticker": "BAC",
         "S&P500": 2368.260009765625,
         "DowJones": 20840.69921875,
         "_deepnote_index_column": 35
        },
        {
         "Date": "2017-02-24",
         "open": 24.1200008392334,
         "high": 24.350000381469727,
         "low": 24.020000457763672,
         "close": 24.229999542236328,
         "adjclose": 22.193090438842773,
         "volume": 97074400,
         "ticker": "BAC",
         "S&P500": 2367.340087890625,
         "DowJones": 20821.759765625,
         "_deepnote_index_column": 36
        },
        {
         "Date": "2017-02-27",
         "open": 24.200000762939453,
         "high": 24.65999984741211,
         "low": 24.190000534057617,
         "close": 24.56999969482422,
         "adjclose": 22.504505157470703,
         "volume": 69129100,
         "ticker": "BAC",
         "S&P500": 2371.5400390625,
         "DowJones": 20851.330078125,
         "_deepnote_index_column": 37
        },
        {
         "Date": "2017-02-28",
         "open": 24.479999542236328,
         "high": 24.700000762939453,
         "low": 24.420000076293945,
         "close": 24.68000030517578,
         "adjclose": 22.605260848999023,
         "volume": 90242000,
         "ticker": "BAC",
         "S&P500": 2367.7900390625,
         "DowJones": 20841.240234375,
         "_deepnote_index_column": 38
        },
        {
         "Date": "2017-03-01",
         "open": 25.3700008392334,
         "high": 25.610000610351562,
         "low": 25.219999313354492,
         "close": 25.5,
         "adjclose": 23.427518844604492,
         "volume": 143947500,
         "ticker": "BAC",
         "S&P500": 2400.97998046875,
         "DowJones": 21169.109375,
         "_deepnote_index_column": 39
        },
        {
         "Date": "2017-03-02",
         "open": 25.68000030517578,
         "high": 25.799999237060547,
         "low": 25.200000762939453,
         "close": 25.229999542236328,
         "adjclose": 23.179460525512695,
         "volume": 99824600,
         "ticker": "BAC",
         "S&P500": 2394.75,
         "DowJones": 21129.19921875,
         "_deepnote_index_column": 40
        },
        {
         "Date": "2017-03-03",
         "open": 25.299999237060547,
         "high": 25.649999618530273,
         "low": 25.299999237060547,
         "close": 25.440000534057617,
         "adjclose": 23.372394561767578,
         "volume": 92456100,
         "ticker": "BAC",
         "S&P500": 2383.889892578125,
         "DowJones": 21039.9609375,
         "_deepnote_index_column": 41
        },
        {
         "Date": "2017-03-06",
         "open": 25.329999923706055,
         "high": 25.350000381469727,
         "low": 25.079999923706055,
         "close": 25.25,
         "adjclose": 23.19783592224121,
         "volume": 75660400,
         "ticker": "BAC",
         "S&P500": 2378.800048828125,
         "DowJones": 20986.4296875,
         "_deepnote_index_column": 42
        },
        {
         "Date": "2017-03-07",
         "open": 25.219999313354492,
         "high": 25.360000610351562,
         "low": 25.100000381469727,
         "close": 25.209999084472656,
         "adjclose": 23.16108512878418,
         "volume": 64053700,
         "ticker": "BAC",
         "S&P500": 2375.1201171875,
         "DowJones": 20970.5390625,
         "_deepnote_index_column": 43
        },
        {
         "Date": "2017-03-08",
         "open": 25.600000381469727,
         "high": 25.770000457763672,
         "low": 25.219999313354492,
         "close": 25.260000228881836,
         "adjclose": 23.2070255279541,
         "volume": 105314600,
         "ticker": "BAC",
         "S&P500": 2373.090087890625,
         "DowJones": 20951.439453125,
         "_deepnote_index_column": 44
        },
        {
         "Date": "2017-03-09",
         "open": 25.350000381469727,
         "high": 25.530000686645508,
         "low": 25.229999542236328,
         "close": 25.350000381469727,
         "adjclose": 23.289709091186523,
         "volume": 78984600,
         "ticker": "BAC",
         "S&P500": 2369.080078125,
         "DowJones": 20900.5703125,
         "_deepnote_index_column": 45
        },
        {
         "Date": "2017-03-10",
         "open": 25.6200008392334,
         "high": 25.6200008392334,
         "low": 25.09000015258789,
         "close": 25.309999465942383,
         "adjclose": 23.252960205078125,
         "volume": 86998800,
         "ticker": "BAC",
         "S&P500": 2376.860107421875,
         "DowJones": 20940.2890625,
         "_deepnote_index_column": 46
        },
        {
         "Date": "2017-03-13",
         "open": 25.299999237060547,
         "high": 25.40999984741211,
         "low": 25.1299991607666,
         "close": 25.299999237060547,
         "adjclose": 23.243772506713867,
         "volume": 56886200,
         "ticker": "BAC",
         "S&P500": 2374.419921875,
         "DowJones": 20926.060546875,
         "_deepnote_index_column": 47
        },
        {
         "Date": "2017-03-14",
         "open": 25.190000534057617,
         "high": 25.34000015258789,
         "low": 25.049999237060547,
         "close": 25.31999969482422,
         "adjclose": 23.26215171813965,
         "volume": 63182700,
         "ticker": "BAC",
         "S&P500": 2368.550048828125,
         "DowJones": 20874,
         "_deepnote_index_column": 48
        },
        {
         "Date": "2017-03-15",
         "open": 25.389999389648438,
         "high": 25.549999237060547,
         "low": 24.959999084472656,
         "close": 25.18000030517578,
         "adjclose": 23.133525848388672,
         "volume": 114662700,
         "ticker": "BAC",
         "S&P500": 2390.010009765625,
         "DowJones": 20977.470703125,
         "_deepnote_index_column": 49
        }
       ],
       "rows_bottom": [
        {
         "Date": "2021-03-16",
         "open": 35.470001220703125,
         "high": 35.86000061035156,
         "low": 35.310001373291016,
         "close": 35.83000183105469,
         "adjclose": 35.48039627075195,
         "volume": 25022400,
         "ticker": "PFE",
         "S&P500": 3981.0400390625,
         "DowJones": 32966.75,
         "_deepnote_index_column": 5480
        },
        {
         "Date": "2021-03-17",
         "open": 35.83000183105469,
         "high": 35.959999084472656,
         "low": 35.119998931884766,
         "close": 35.790000915527344,
         "adjclose": 35.4407844543457,
         "volume": 42540100,
         "ticker": "PFE",
         "S&P500": 3983.8701171875,
         "DowJones": 33047.578125,
         "_deepnote_index_column": 5481
        },
        {
         "Date": "2021-03-18",
         "open": 35.529998779296875,
         "high": 35.970001220703125,
         "low": 35.52000045776367,
         "close": 35.77000045776367,
         "adjclose": 35.42097854614258,
         "volume": 24729800,
         "ticker": "PFE",
         "S&P500": 3969.6201171875,
         "DowJones": 33227.78125,
         "_deepnote_index_column": 5482
        },
        {
         "Date": "2021-03-19",
         "open": 35.75,
         "high": 35.81999969482422,
         "low": 35.470001220703125,
         "close": 35.529998779296875,
         "adjclose": 35.183319091796875,
         "volume": 48348900,
         "ticker": "PFE",
         "S&P500": 3930.1201171875,
         "DowJones": 32858.359375,
         "_deepnote_index_column": 5483
        },
        {
         "Date": "2021-03-22",
         "open": 35.47999954223633,
         "high": 36.0099983215332,
         "low": 35.36000061035156,
         "close": 36,
         "adjclose": 35.64873504638672,
         "volume": 25427500,
         "ticker": "PFE",
         "S&P500": 3955.31005859375,
         "DowJones": 32810.3515625,
         "_deepnote_index_column": 5484
        },
        {
         "Date": "2021-03-23",
         "open": 35.81999969482422,
         "high": 35.93000030517578,
         "low": 35.31999969482422,
         "close": 35.36000061035156,
         "adjclose": 35.01498031616211,
         "volume": 27970500,
         "ticker": "PFE",
         "S&P500": 3949.1298828125,
         "DowJones": 32753.76953125,
         "_deepnote_index_column": 5485
        },
        {
         "Date": "2021-03-24",
         "open": 35.47999954223633,
         "high": 35.93000030517578,
         "low": 35.369998931884766,
         "close": 35.61000061035156,
         "adjclose": 35.262542724609375,
         "volume": 22883400,
         "ticker": "PFE",
         "S&P500": 3942.080078125,
         "DowJones": 32787.98828125,
         "_deepnote_index_column": 5486
        },
        {
         "Date": "2021-03-25",
         "open": 35.650001525878906,
         "high": 35.790000915527344,
         "low": 35.25,
         "close": 35.66999816894531,
         "adjclose": 35.32195281982422,
         "volume": 24875300,
         "ticker": "PFE",
         "S&P500": 3919.5400390625,
         "DowJones": 32672.689453125,
         "_deepnote_index_column": 5487
        },
        {
         "Date": "2021-03-26",
         "open": 35.68000030517578,
         "high": 36.290000915527344,
         "low": 35.63999938964844,
         "close": 36.25,
         "adjclose": 35.896297454833984,
         "volume": 27944500,
         "ticker": "PFE",
         "S&P500": 3978.18994140625,
         "DowJones": 33098.828125,
         "_deepnote_index_column": 5488
        },
        {
         "Date": "2021-03-29",
         "open": 36.029998779296875,
         "high": 36.7400016784668,
         "low": 35.900001525878906,
         "close": 36.619998931884766,
         "adjclose": 36.2626838684082,
         "volume": 27004800,
         "ticker": "PFE",
         "S&P500": 3981.830078125,
         "DowJones": 33259,
         "_deepnote_index_column": 5489
        },
        {
         "Date": "2021-03-30",
         "open": 36.59000015258789,
         "high": 36.630001068115234,
         "low": 36.02000045776367,
         "close": 36.11000061035156,
         "adjclose": 35.75766372680664,
         "volume": 26303300,
         "ticker": "PFE",
         "S&P500": 3968.010009765625,
         "DowJones": 33170.9296875,
         "_deepnote_index_column": 5490
        },
        {
         "Date": "2021-03-31",
         "open": 36.150001525878906,
         "high": 36.43000030517578,
         "low": 36.040000915527344,
         "close": 36.22999954223633,
         "adjclose": 35.87649154663086,
         "volume": 26582700,
         "ticker": "PFE",
         "S&P500": 3994.409912109375,
         "DowJones": 33173.76953125,
         "_deepnote_index_column": 5491
        },
        {
         "Date": "2021-04-01",
         "open": 36.29999923706055,
         "high": 36.45000076293945,
         "low": 36.02000045776367,
         "close": 36.29999923706055,
         "adjclose": 35.94580841064453,
         "volume": 21319900,
         "ticker": "PFE",
         "S&P500": 4020.6298828125,
         "DowJones": 33167.171875,
         "_deepnote_index_column": 5492
        },
        {
         "Date": "2021-04-05",
         "open": 36.439998626708984,
         "high": 36.56999969482422,
         "low": 36.099998474121094,
         "close": 36.279998779296875,
         "adjclose": 35.926002502441406,
         "volume": 22096900,
         "ticker": "PFE",
         "S&P500": 4083.419921875,
         "DowJones": 33617.94921875,
         "_deepnote_index_column": 5493
        },
        {
         "Date": "2021-04-06",
         "open": 36.2599983215332,
         "high": 36.400001525878906,
         "low": 36,
         "close": 36.04999923706055,
         "adjclose": 35.698246002197266,
         "volume": 20722900,
         "ticker": "PFE",
         "S&P500": 4086.22998046875,
         "DowJones": 33544.7890625,
         "_deepnote_index_column": 5494
        },
        {
         "Date": "2021-04-07",
         "open": 36.029998779296875,
         "high": 36.2400016784668,
         "low": 35.7599983215332,
         "close": 35.90999984741211,
         "adjclose": 35.55961227416992,
         "volume": 21933800,
         "ticker": "PFE",
         "S&P500": 4083.1298828125,
         "DowJones": 33521.76171875,
         "_deepnote_index_column": 5495
        },
        {
         "Date": "2021-04-08",
         "open": 35.959999084472656,
         "high": 36.150001525878906,
         "low": 35.869998931884766,
         "close": 35.959999084472656,
         "adjclose": 35.609127044677734,
         "volume": 18129400,
         "ticker": "PFE",
         "S&P500": 4098.18994140625,
         "DowJones": 33506.80078125,
         "_deepnote_index_column": 5496
        },
        {
         "Date": "2021-04-09",
         "open": 35.900001525878906,
         "high": 36.810001373291016,
         "low": 35.900001525878906,
         "close": 36.599998474121094,
         "adjclose": 36.24287796020508,
         "volume": 31686700,
         "ticker": "PFE",
         "S&P500": 4129.47998046875,
         "DowJones": 33810.87109375,
         "_deepnote_index_column": 5497
        },
        {
         "Date": "2021-04-12",
         "open": 36.47999954223633,
         "high": 37.029998779296875,
         "low": 36.33000183105469,
         "close": 36.970001220703125,
         "adjclose": 36.60927200317383,
         "volume": 29944900,
         "ticker": "PFE",
         "S&P500": 4131.759765625,
         "DowJones": 33786.19140625,
         "_deepnote_index_column": 5498
        },
        {
         "Date": "2021-04-13",
         "open": 37.40999984741211,
         "high": 37.650001525878906,
         "low": 36.88999938964844,
         "close": 37.15999984741211,
         "adjclose": 36.79741668701172,
         "volume": 33967400,
         "ticker": "PFE",
         "S&P500": 4148,
         "DowJones": 33741.640625,
         "_deepnote_index_column": 5499
        },
        {
         "Date": "2021-04-14",
         "open": 37.16999816894531,
         "high": 37.380001068115234,
         "low": 36.959999084472656,
         "close": 37.16999816894531,
         "adjclose": 36.80731964111328,
         "volume": 23842900,
         "ticker": "PFE",
         "S&P500": 4151.68994140625,
         "DowJones": 33911.25,
         "_deepnote_index_column": 5500
        },
        {
         "Date": "2021-04-15",
         "open": 37.2599983215332,
         "high": 37.7400016784668,
         "low": 37.2599983215332,
         "close": 37.599998474121094,
         "adjclose": 37.233123779296875,
         "volume": 24945800,
         "ticker": "PFE",
         "S&P500": 4173.490234375,
         "DowJones": 34068.73046875,
         "_deepnote_index_column": 5501
        },
        {
         "Date": "2021-04-16",
         "open": 37.869998931884766,
         "high": 38.70000076293945,
         "low": 37.810001373291016,
         "close": 38.56999969482422,
         "adjclose": 38.193660736083984,
         "volume": 52829500,
         "ticker": "PFE",
         "S&P500": 4191.31005859375,
         "DowJones": 34256.75,
         "_deepnote_index_column": 5502
        },
        {
         "Date": "2021-04-19",
         "open": 38.599998474121094,
         "high": 38.959999084472656,
         "low": 38.33000183105469,
         "close": 38.93000030517578,
         "adjclose": 38.550148010253906,
         "volume": 30905100,
         "ticker": "PFE",
         "S&P500": 4180.81005859375,
         "DowJones": 34182.37890625,
         "_deepnote_index_column": 5503
        },
        {
         "Date": "2021-04-20",
         "open": 38.75,
         "high": 39.2400016784668,
         "low": 38.75,
         "close": 39.029998779296875,
         "adjclose": 38.649169921875,
         "volume": 26459400,
         "ticker": "PFE",
         "S&P500": 4159.18017578125,
         "DowJones": 34034.1796875,
         "_deepnote_index_column": 5504
        },
        {
         "Date": "2021-04-21",
         "open": 39.13999938964844,
         "high": 39.66999816894531,
         "low": 39.130001068115234,
         "close": 39.529998779296875,
         "adjclose": 39.144290924072266,
         "volume": 29365000,
         "ticker": "PFE",
         "S&P500": 4175.02001953125,
         "DowJones": 34160.33984375,
         "_deepnote_index_column": 5505
        },
        {
         "Date": "2021-04-22",
         "open": 39.47999954223633,
         "high": 39.5,
         "low": 38.52000045776367,
         "close": 38.63999938964844,
         "adjclose": 38.262977600097656,
         "volume": 33373600,
         "ticker": "PFE",
         "S&P500": 4179.56982421875,
         "DowJones": 34126.5703125,
         "_deepnote_index_column": 5506
        },
        {
         "Date": "2021-04-23",
         "open": 38.630001068115234,
         "high": 38.83000183105469,
         "low": 38.43000030517578,
         "close": 38.65999984741211,
         "adjclose": 38.282779693603516,
         "volume": 24375000,
         "ticker": "PFE",
         "S&P500": 4194.169921875,
         "DowJones": 34157.5703125,
         "_deepnote_index_column": 5507
        },
        {
         "Date": "2021-04-26",
         "open": 38.72999954223633,
         "high": 38.7400016784668,
         "low": 38.4900016784668,
         "close": 38.68000030517578,
         "adjclose": 38.30258560180664,
         "volume": 19773400,
         "ticker": "PFE",
         "S&P500": 4194.18994140625,
         "DowJones": 34148.94140625,
         "_deepnote_index_column": 5508
        },
        {
         "Date": "2021-04-27",
         "open": 38.5099983215332,
         "high": 38.61000061035156,
         "low": 38.349998474121094,
         "close": 38.45000076293945,
         "adjclose": 38.074832916259766,
         "volume": 19061500,
         "ticker": "PFE",
         "S&P500": 4193.35009765625,
         "DowJones": 34043.98046875,
         "_deepnote_index_column": 5509
        },
        {
         "Date": "2021-04-28",
         "open": 38.540000915527344,
         "high": 38.939998626708984,
         "low": 38.52000045776367,
         "close": 38.810001373291016,
         "adjclose": 38.43132019042969,
         "volume": 21963300,
         "ticker": "PFE",
         "S&P500": 4201.52978515625,
         "DowJones": 33946.6015625,
         "_deepnote_index_column": 5510
        },
        {
         "Date": "2021-04-29",
         "open": 38.9900016784668,
         "high": 39,
         "low": 38.310001373291016,
         "close": 38.599998474121094,
         "adjclose": 38.223365783691406,
         "volume": 23569400,
         "ticker": "PFE",
         "S&P500": 4218.77978515625,
         "DowJones": 34087.2109375,
         "_deepnote_index_column": 5511
        },
        {
         "Date": "2021-04-30",
         "open": 38.5,
         "high": 38.900001525878906,
         "low": 38.4900016784668,
         "close": 38.650001525878906,
         "adjclose": 38.27288055419922,
         "volume": 28403900,
         "ticker": "PFE",
         "S&P500": 4198.10009765625,
         "DowJones": 33988.75,
         "_deepnote_index_column": 5512
        },
        {
         "Date": "2021-05-03",
         "open": 39.040000915527344,
         "high": 39.84000015258789,
         "low": 38.959999084472656,
         "close": 39.83000183105469,
         "adjclose": 39.441368103027344,
         "volume": 46638600,
         "ticker": "PFE",
         "S&P500": 4209.39013671875,
         "DowJones": 34221.05859375,
         "_deepnote_index_column": 5513
        },
        {
         "Date": "2021-05-04",
         "open": 40,
         "high": 40.16999816894531,
         "low": 39.43000030517578,
         "close": 39.95000076293945,
         "adjclose": 39.56019592285156,
         "volume": 52802200,
         "ticker": "PFE",
         "S&P500": 4179.0400390625,
         "DowJones": 34147.78125,
         "_deepnote_index_column": 5514
        },
        {
         "Date": "2021-05-05",
         "open": 40.18000030517578,
         "high": 41.09000015258789,
         "low": 38.93000030517578,
         "close": 39.970001220703125,
         "adjclose": 39.58000183105469,
         "volume": 54348400,
         "ticker": "PFE",
         "S&P500": 4187.72021484375,
         "DowJones": 34331.19921875,
         "_deepnote_index_column": 5515
        },
        {
         "Date": "2021-05-06",
         "open": 38.47999954223633,
         "high": 39.22999954223633,
         "low": 37.959999084472656,
         "close": 39.189998626708984,
         "adjclose": 39.189998626708984,
         "volume": 54944900,
         "ticker": "PFE",
         "S&P500": 4202.7001953125,
         "DowJones": 34561.2890625,
         "_deepnote_index_column": 5516
        },
        {
         "Date": "2021-05-07",
         "open": 39.04999923706055,
         "high": 39.869998931884766,
         "low": 39.04999923706055,
         "close": 39.58000183105469,
         "adjclose": 39.58000183105469,
         "volume": 33795200,
         "ticker": "PFE",
         "S&P500": 4238.0400390625,
         "DowJones": 34811.390625,
         "_deepnote_index_column": 5517
        },
        {
         "Date": "2021-05-10",
         "open": 39.83000183105469,
         "high": 40.279998779296875,
         "low": 39.779998779296875,
         "close": 39.86000061035156,
         "adjclose": 39.86000061035156,
         "volume": 30831900,
         "ticker": "PFE",
         "S&P500": 4236.39013671875,
         "DowJones": 35091.55859375,
         "_deepnote_index_column": 5518
        },
        {
         "Date": "2021-05-11",
         "open": 39.68000030517578,
         "high": 40.06999969482422,
         "low": 39.22999954223633,
         "close": 39.349998474121094,
         "adjclose": 39.349998474121094,
         "volume": 30568600,
         "ticker": "PFE",
         "S&P500": 4162.0400390625,
         "DowJones": 34572.73828125,
         "_deepnote_index_column": 5519
        },
        {
         "Date": "2021-05-12",
         "open": 39.439998626708984,
         "high": 39.91999816894531,
         "low": 39.310001373291016,
         "close": 39.689998626708984,
         "adjclose": 39.689998626708984,
         "volume": 26208600,
         "ticker": "PFE",
         "S&P500": 4134.72998046875,
         "DowJones": 34207.87109375,
         "_deepnote_index_column": 5520
        },
        {
         "Date": "2021-05-13",
         "open": 39.5,
         "high": 40.279998779296875,
         "low": 39.5,
         "close": 40.099998474121094,
         "adjclose": 40.099998474121094,
         "volume": 25415000,
         "ticker": "PFE",
         "S&P500": 4131.580078125,
         "DowJones": 34181.76953125,
         "_deepnote_index_column": 5521
        },
        {
         "Date": "2021-05-14",
         "open": 40.2400016784668,
         "high": 40.31999969482422,
         "low": 39.91999816894531,
         "close": 40.02000045776367,
         "adjclose": 40.02000045776367,
         "volume": 18005400,
         "ticker": "PFE",
         "S&P500": 4183.1298828125,
         "DowJones": 34454.05078125,
         "_deepnote_index_column": 5522
        },
        {
         "Date": "2021-05-17",
         "open": 40.06999969482422,
         "high": 40.400001525878906,
         "low": 40.0099983215332,
         "close": 40.11000061035156,
         "adjclose": 40.11000061035156,
         "volume": 18095000,
         "ticker": "PFE",
         "S&P500": 4171.919921875,
         "DowJones": 34383.83984375,
         "_deepnote_index_column": 5523
        },
        {
         "Date": "2021-05-18",
         "open": 40.18000030517578,
         "high": 40.349998474121094,
         "low": 39.83000183105469,
         "close": 40.04999923706055,
         "adjclose": 40.04999923706055,
         "volume": 15805500,
         "ticker": "PFE",
         "S&P500": 4169.14990234375,
         "DowJones": 34408.98828125,
         "_deepnote_index_column": 5524
        },
        {
         "Date": "2021-05-19",
         "open": 39.900001525878906,
         "high": 39.900001525878906,
         "low": 39.43000030517578,
         "close": 39.83000183105469,
         "adjclose": 39.83000183105469,
         "volume": 20209500,
         "ticker": "PFE",
         "S&P500": 4116.93017578125,
         "DowJones": 33945.80859375,
         "_deepnote_index_column": 5525
        },
        {
         "Date": "2021-05-20",
         "open": 39.72999954223633,
         "high": 40.25,
         "low": 39.720001220703125,
         "close": 40.119998931884766,
         "adjclose": 40.119998931884766,
         "volume": 18621100,
         "ticker": "PFE",
         "S&P500": 4172.7998046875,
         "DowJones": 34233.3984375,
         "_deepnote_index_column": 5526
        },
        {
         "Date": "2021-05-21",
         "open": 40.209999084472656,
         "high": 40.599998474121094,
         "low": 39.90999984741211,
         "close": 39.95000076293945,
         "adjclose": 39.95000076293945,
         "volume": 21132100,
         "ticker": "PFE",
         "S&P500": 4188.72021484375,
         "DowJones": 34415.48046875,
         "_deepnote_index_column": 5527
        },
        {
         "Date": "2021-05-24",
         "open": 40.08000183105469,
         "high": 40.13999938964844,
         "low": 39.779998779296875,
         "close": 39.810001373291016,
         "adjclose": 39.810001373291016,
         "volume": 16911300,
         "ticker": "PFE",
         "S&P500": 4209.52001953125,
         "DowJones": 34472.51171875,
         "_deepnote_index_column": 5528
        },
        {
         "Date": "2021-05-25",
         "open": 39.81999969482422,
         "high": 39.85639953613281,
         "low": 39.42499923706055,
         "close": 39.435001373291016,
         "adjclose": 39.435001373291016,
         "volume": 10742274,
         "ticker": "PFE",
         "S&P500": 4213.419921875,
         "DowJones": 34511.3984375,
         "_deepnote_index_column": 5529
        }
       ]
      },
      "text/plain": "            Date       open       high        low      close   adjclose  \\\n0     2017-01-03  22.600000  22.680000  22.200001  22.530001  20.636000   \n1     2017-01-04  22.719999  22.959999  22.600000  22.950001  21.020697   \n2     2017-01-05  22.820000  22.930000  22.350000  22.680000  20.773388   \n3     2017-01-06  22.780001  22.850000  22.559999  22.680000  20.773388   \n4     2017-01-09  22.510000  22.709999  22.400000  22.549999  20.654318   \n...          ...        ...        ...        ...        ...        ...   \n5525  2021-05-19  39.900002  39.900002  39.430000  39.830002  39.830002   \n5526  2021-05-20  39.730000  40.250000  39.720001  40.119999  40.119999   \n5527  2021-05-21  40.209999  40.599998  39.910000  39.950001  39.950001   \n5528  2021-05-24  40.080002  40.139999  39.779999  39.810001  39.810001   \n5529  2021-05-25  39.820000  39.856400  39.424999  39.435001  39.435001   \n\n        volume ticker       S&P500      DowJones  \n0     99298100    BAC  2263.879883  19938.529297  \n1     76875100    BAC  2272.820068  19956.140625  \n2     86826400    BAC  2271.500000  19948.599609  \n3     66281500    BAC  2282.100098  19999.630859  \n4     75901500    BAC  2275.489990  19943.779297  \n...        ...    ...          ...           ...  \n5525  20209500    PFE  4116.930176  33945.808594  \n5526  18621100    PFE  4172.799805  34233.398438  \n5527  21132100    PFE  4188.720215  34415.480469  \n5528  16911300    PFE  4209.520020  34472.511719  \n5529  10742274    PFE  4213.419922  34511.398438  \n\n[5530 rows x 10 columns]",
      "text/html": "<div>\n<style scoped>\n    .dataframe tbody tr th:only-of-type {\n        vertical-align: middle;\n    }\n\n    .dataframe tbody tr th {\n        vertical-align: top;\n    }\n\n    .dataframe thead th {\n        text-align: right;\n    }\n</style>\n<table border=\"1\" class=\"dataframe\">\n  <thead>\n    <tr style=\"text-align: right;\">\n      <th></th>\n      <th>Date</th>\n      <th>open</th>\n      <th>high</th>\n      <th>low</th>\n      <th>close</th>\n      <th>adjclose</th>\n      <th>volume</th>\n      <th>ticker</th>\n      <th>S&amp;P500</th>\n      <th>DowJones</th>\n    </tr>\n  </thead>\n  <tbody>\n    <tr>\n      <th>0</th>\n      <td>2017-01-03</td>\n      <td>22.600000</td>\n      <td>22.680000</td>\n      <td>22.200001</td>\n      <td>22.530001</td>\n      <td>20.636000</td>\n      <td>99298100</td>\n      <td>BAC</td>\n      <td>2263.879883</td>\n      <td>19938.529297</td>\n    </tr>\n    <tr>\n      <th>1</th>\n      <td>2017-01-04</td>\n      <td>22.719999</td>\n      <td>22.959999</td>\n      <td>22.600000</td>\n      <td>22.950001</td>\n      <td>21.020697</td>\n      <td>76875100</td>\n      <td>BAC</td>\n      <td>2272.820068</td>\n      <td>19956.140625</td>\n    </tr>\n    <tr>\n      <th>2</th>\n      <td>2017-01-05</td>\n      <td>22.820000</td>\n      <td>22.930000</td>\n      <td>22.350000</td>\n      <td>22.680000</td>\n      <td>20.773388</td>\n      <td>86826400</td>\n      <td>BAC</td>\n      <td>2271.500000</td>\n      <td>19948.599609</td>\n    </tr>\n    <tr>\n      <th>3</th>\n      <td>2017-01-06</td>\n      <td>22.780001</td>\n      <td>22.850000</td>\n      <td>22.559999</td>\n      <td>22.680000</td>\n      <td>20.773388</td>\n      <td>66281500</td>\n      <td>BAC</td>\n      <td>2282.100098</td>\n      <td>19999.630859</td>\n    </tr>\n    <tr>\n      <th>4</th>\n      <td>2017-01-09</td>\n      <td>22.510000</td>\n      <td>22.709999</td>\n      <td>22.400000</td>\n      <td>22.549999</td>\n      <td>20.654318</td>\n      <td>75901500</td>\n      <td>BAC</td>\n      <td>2275.489990</td>\n      <td>19943.779297</td>\n    </tr>\n    <tr>\n      <th>...</th>\n      <td>...</td>\n      <td>...</td>\n      <td>...</td>\n      <td>...</td>\n      <td>...</td>\n      <td>...</td>\n      <td>...</td>\n      <td>...</td>\n      <td>...</td>\n      <td>...</td>\n    </tr>\n    <tr>\n      <th>5525</th>\n      <td>2021-05-19</td>\n      <td>39.900002</td>\n      <td>39.900002</td>\n      <td>39.430000</td>\n      <td>39.830002</td>\n      <td>39.830002</td>\n      <td>20209500</td>\n      <td>PFE</td>\n      <td>4116.930176</td>\n      <td>33945.808594</td>\n    </tr>\n    <tr>\n      <th>5526</th>\n      <td>2021-05-20</td>\n      <td>39.730000</td>\n      <td>40.250000</td>\n      <td>39.720001</td>\n      <td>40.119999</td>\n      <td>40.119999</td>\n      <td>18621100</td>\n      <td>PFE</td>\n      <td>4172.799805</td>\n      <td>34233.398438</td>\n    </tr>\n    <tr>\n      <th>5527</th>\n      <td>2021-05-21</td>\n      <td>40.209999</td>\n      <td>40.599998</td>\n      <td>39.910000</td>\n      <td>39.950001</td>\n      <td>39.950001</td>\n      <td>21132100</td>\n      <td>PFE</td>\n      <td>4188.720215</td>\n      <td>34415.480469</td>\n    </tr>\n    <tr>\n      <th>5528</th>\n      <td>2021-05-24</td>\n      <td>40.080002</td>\n      <td>40.139999</td>\n      <td>39.779999</td>\n      <td>39.810001</td>\n      <td>39.810001</td>\n      <td>16911300</td>\n      <td>PFE</td>\n      <td>4209.520020</td>\n      <td>34472.511719</td>\n    </tr>\n    <tr>\n      <th>5529</th>\n      <td>2021-05-25</td>\n      <td>39.820000</td>\n      <td>39.856400</td>\n      <td>39.424999</td>\n      <td>39.435001</td>\n      <td>39.435001</td>\n      <td>10742274</td>\n      <td>PFE</td>\n      <td>4213.419922</td>\n      <td>34511.398438</td>\n    </tr>\n  </tbody>\n</table>\n<p>5530 rows × 10 columns</p>\n</div>"
     },
     "metadata": {}
    }
   ]
  },
  {
   "cell_type": "code",
   "metadata": {
    "tags": [],
    "cell_id": "00000-5d30f703-9ffc-4771-9199-8fd6a7e53401",
    "deepnote_to_be_reexecuted": false,
    "source_hash": "4f1c8fa7",
    "execution_start": 1621954330948,
    "execution_millis": 1582,
    "deepnote_cell_type": "code"
   },
   "source": "import pandas as pd\nimport matplotlib.pyplot as plt\nimport seaborn as sns\nimport numpy as np \n\n# read the data\ndata = pd.read_csv(\"dataset 5-22-21.csv\")\n\n# get an overview of the data \ndata.head()\ndata.info()\ndata.describe()\n\n# see if there are any NA's \nmissings = pd.DataFrame(data.isna().sum())\nmissings\n\n# We found no more missings.",
   "execution_count": 3,
   "outputs": [
    {
     "name": "stdout",
     "text": "<class 'pandas.core.frame.DataFrame'>\nRangeIndex: 5520 entries, 0 to 5519\nData columns (total 11 columns):\n #   Column      Non-Null Count  Dtype  \n---  ------      --------------  -----  \n 0   Unnamed: 0  5520 non-null   int64  \n 1   Date        5520 non-null   object \n 2   open        5520 non-null   float64\n 3   high        5520 non-null   float64\n 4   low         5520 non-null   float64\n 5   close       5520 non-null   float64\n 6   adjclose    5520 non-null   float64\n 7   volume      5520 non-null   int64  \n 8   ticker      5520 non-null   object \n 9   S&P500      5520 non-null   float64\n 10  DowJones    5520 non-null   float64\ndtypes: float64(7), int64(2), object(2)\nmemory usage: 474.5+ KB\n",
     "output_type": "stream"
    },
    {
     "output_type": "execute_result",
     "execution_count": 3,
     "data": {
      "application/vnd.deepnote.dataframe.v2+json": {
       "row_count": 11,
       "column_count": 1,
       "columns": [
        {
         "name": 0,
         "dtype": "int64",
         "stats": {
          "unique_count": 1,
          "nan_count": 0,
          "min": "0",
          "max": "0",
          "histogram": [
           {
            "bin_start": -0.5,
            "bin_end": -0.4,
            "count": 0
           },
           {
            "bin_start": -0.4,
            "bin_end": -0.3,
            "count": 0
           },
           {
            "bin_start": -0.3,
            "bin_end": -0.19999999999999996,
            "count": 0
           },
           {
            "bin_start": -0.19999999999999996,
            "bin_end": -0.09999999999999998,
            "count": 0
           },
           {
            "bin_start": -0.09999999999999998,
            "bin_end": 0,
            "count": 0
           },
           {
            "bin_start": 0,
            "bin_end": 0.10000000000000009,
            "count": 11
           },
           {
            "bin_start": 0.10000000000000009,
            "bin_end": 0.20000000000000007,
            "count": 0
           },
           {
            "bin_start": 0.20000000000000007,
            "bin_end": 0.30000000000000004,
            "count": 0
           },
           {
            "bin_start": 0.30000000000000004,
            "bin_end": 0.4,
            "count": 0
           },
           {
            "bin_start": 0.4,
            "bin_end": 0.5,
            "count": 0
           }
          ]
         }
        },
        {
         "name": "_deepnote_index_column",
         "dtype": "object"
        }
       ],
       "rows_top": [
        {
         "0": 0,
         "_deepnote_index_column": "Unnamed: 0"
        },
        {
         "0": 0,
         "_deepnote_index_column": "Date"
        },
        {
         "0": 0,
         "_deepnote_index_column": "open"
        },
        {
         "0": 0,
         "_deepnote_index_column": "high"
        },
        {
         "0": 0,
         "_deepnote_index_column": "low"
        },
        {
         "0": 0,
         "_deepnote_index_column": "close"
        },
        {
         "0": 0,
         "_deepnote_index_column": "adjclose"
        },
        {
         "0": 0,
         "_deepnote_index_column": "volume"
        },
        {
         "0": 0,
         "_deepnote_index_column": "ticker"
        },
        {
         "0": 0,
         "_deepnote_index_column": "S&P500"
        },
        {
         "0": 0,
         "_deepnote_index_column": "DowJones"
        }
       ],
       "rows_bottom": null
      },
      "text/plain": "            0\nUnnamed: 0  0\nDate        0\nopen        0\nhigh        0\nlow         0\nclose       0\nadjclose    0\nvolume      0\nticker      0\nS&P500      0\nDowJones    0",
      "text/html": "<div>\n<style scoped>\n    .dataframe tbody tr th:only-of-type {\n        vertical-align: middle;\n    }\n\n    .dataframe tbody tr th {\n        vertical-align: top;\n    }\n\n    .dataframe thead th {\n        text-align: right;\n    }\n</style>\n<table border=\"1\" class=\"dataframe\">\n  <thead>\n    <tr style=\"text-align: right;\">\n      <th></th>\n      <th>0</th>\n    </tr>\n  </thead>\n  <tbody>\n    <tr>\n      <th>Unnamed: 0</th>\n      <td>0</td>\n    </tr>\n    <tr>\n      <th>Date</th>\n      <td>0</td>\n    </tr>\n    <tr>\n      <th>open</th>\n      <td>0</td>\n    </tr>\n    <tr>\n      <th>high</th>\n      <td>0</td>\n    </tr>\n    <tr>\n      <th>low</th>\n      <td>0</td>\n    </tr>\n    <tr>\n      <th>close</th>\n      <td>0</td>\n    </tr>\n    <tr>\n      <th>adjclose</th>\n      <td>0</td>\n    </tr>\n    <tr>\n      <th>volume</th>\n      <td>0</td>\n    </tr>\n    <tr>\n      <th>ticker</th>\n      <td>0</td>\n    </tr>\n    <tr>\n      <th>S&amp;P500</th>\n      <td>0</td>\n    </tr>\n    <tr>\n      <th>DowJones</th>\n      <td>0</td>\n    </tr>\n  </tbody>\n</table>\n</div>"
     },
     "metadata": {}
    }
   ]
  },
  {
   "cell_type": "markdown",
   "source": "### Exploratory Data Analysis and Data Preprocessing (e.g. Scaling)",
   "metadata": {
    "tags": [],
    "cell_id": "00005-11161a39-8596-470f-8251-e4cb78ac98fe",
    "deepnote_cell_type": "markdown"
   }
  },
  {
   "cell_type": "code",
   "metadata": {
    "tags": [],
    "cell_id": "00001-18f6e7eb-1770-414b-9b21-088e91732534",
    "deepnote_to_be_reexecuted": false,
    "source_hash": "86a20ad3",
    "execution_start": 1621954332569,
    "execution_millis": 858,
    "deepnote_cell_type": "code"
   },
   "source": "# Visualize the original data\nstocks = data[['Date', 'open', 'high', 'low', 'close', 'ticker']]\nimport matplotlib.pyplot as plt\n\n# reset the index\nstocks['Date'] = pd.to_datetime(stocks['Date'])\nstocks.set_index('Date')\n# sort the values by Date\nstocks.sort_values('Date', inplace=True)\n# set the color palette for the stocks\npalette ={\"BAC\": \"C0\", \"MDLZ\": \"C1\", \"GOOG\": \"C2\", \"BA\": \"k\", \"PFE\": \"r\"}\n# create the figure\nplt.figure(figsize=(8,4))\nsns.lineplot(x = 'Date', y = 'close', data = stocks, hue = 'ticker', palette = palette)",
   "execution_count": 4,
   "outputs": [
    {
     "output_type": "execute_result",
     "execution_count": 4,
     "data": {
      "text/plain": "<AxesSubplot:xlabel='Date', ylabel='close'>"
     },
     "metadata": {}
    },
    {
     "data": {
      "text/plain": "<Figure size 576x288 with 1 Axes>",
      "image/png": "[encoded data removed]"
     },
     "metadata": {
      "needs_background": "light",
      "image/png": {
       "width": 517,
       "height": 262
      }
     },
     "output_type": "display_data"
    }
   ]
  },
  {
   "cell_type": "code",
   "metadata": {
    "tags": [],
    "cell_id": "00003-d616f9bb-000c-4a05-a517-a5223d87f6df",
    "deepnote_to_be_reexecuted": false,
    "source_hash": "eed5d174",
    "execution_start": 1621954333428,
    "execution_millis": 30,
    "deepnote_cell_type": "code"
   },
   "source": "# EDA to see likelyhood of stock price rising, falling, or remaining the same \n# over the course of a day within our dataset\n\n# count the stocks that increased/decreased&/didn't change\nrise = stocks.query('close > open').count()\nprint(\"Stocks that rose in price: \", rise['ticker'])\n\nfall = stocks.query('open > close').count()\nprint(\"Stocks that fell in price: \", fall['ticker'])\n\nsteady = stocks.query('open == close').count()\nprint(\"Stocks that didn't change in price: \", steady['ticker'])\n\n# see an average of how much stock prices rise/fall and the min and max\ndifference = []\ndifference = stocks['open'].sub(stocks['close'], axis = 0)\nprint(\"Average of stock price differences between openning and close of day: \", difference.mean())\nprint(\"Largest decrease in stock price in a day: \", min(difference))\nprint(\"Largest increase in stock price in a day: \", max(difference))\n",
   "execution_count": 5,
   "outputs": [
    {
     "name": "stdout",
     "text": "Stocks that rose in price:  2799\nStocks that fell in price:  2674\nStocks that didn't change in price:  47\nAverage of stock price differences between openning and close of day:  -0.1993289273718129\nLargest decrease in stock price in a day:  -72.610107421875\nLargest increase in stock price in a day:  76.9598388671875\n",
     "output_type": "stream"
    }
   ]
  },
  {
   "cell_type": "code",
   "metadata": {
    "tags": [],
    "cell_id": "00003-214f9a16-3173-493e-bf89-9303257e86b5",
    "deepnote_to_be_reexecuted": false,
    "source_hash": "fca5f65d",
    "execution_start": 1621954333455,
    "execution_millis": 36,
    "output_cleared": false,
    "deepnote_cell_type": "code"
   },
   "source": "#FEATURE SELECTION: S&P500, DowJones, volume, previous 3 days, previous 5 days, weekday (,high, low, open)\n\n# calculate the previous 3 days (moving average)\ndata[\"mv_avg_3\"]= data[\"close\"].rolling(min_periods=1,window=3).mean().shift(1)\n\n# calculate previous 5 days (moving average)\ndata[\"mv_avg_5\"]= data[\"close\"].rolling(min_periods=1,window=5).mean().shift(1)\n\n#Drop the first row of the dataset as it has NANs after computing the previous x days\n#IMPORTANT: ONLY RUN THE FOLLOWING STEP ONCE, SO IT DOES NOT REMOVE THE FIRST ROW EACH TIME RUNNINNG IT\ndata = data.iloc[1:] \n\n# extract weekday from Date column\ndata['Date'] = pd.to_datetime(data['Date'])\ndata['week_day'] = data.Date.apply(lambda x: x.weekday())\n",
   "execution_count": 6,
   "outputs": []
  },
  {
   "cell_type": "code",
   "metadata": {
    "tags": [],
    "cell_id": "00003-8219e0a5-e9e7-4efd-8bd7-a71f0984b7f5",
    "deepnote_to_be_reexecuted": false,
    "source_hash": "a005e19e",
    "execution_start": 1621954333494,
    "execution_millis": 583,
    "output_cleared": false,
    "deepnote_cell_type": "code"
   },
   "source": "stocks3 = data[['Date', 'close', 'ticker']]\n# reset index and sort values by Date\nstocks3['Date'] = pd.to_datetime(stocks3['Date'])\nstocks3.set_index('Date')\nstocks3.sort_values('Date', inplace=True)\n\n# create the figure\nfig, ax = plt.subplots(1,2, figsize = (8, 4))\nsns.boxplot(x= stocks3[\"close\"], ax = ax[0])\nax[0].set_title(\"Boxplot for all stocks\")\nsns.distplot(stocks3['close'], ax = ax[1])\nax[1].set_title(\"Distribution plot for all stocks\")\nplt.tight_layout()",
   "execution_count": 7,
   "outputs": [
    {
     "data": {
      "text/plain": "<Figure size 576x288 with 2 Axes>",
      "image/png": "[encoded data removed]"
     },
     "metadata": {
      "needs_background": "light",
      "image/png": {
       "width": 568,
       "height": 280
      }
     },
     "output_type": "display_data"
    }
   ]
  },
  {
   "cell_type": "code",
   "metadata": {
    "tags": [],
    "cell_id": "00006-e52f19f2-8e02-46ae-9140-29a7a83211da",
    "deepnote_to_be_reexecuted": false,
    "source_hash": "aee24173",
    "execution_start": 1621954334074,
    "execution_millis": 2660,
    "deepnote_cell_type": "code"
   },
   "source": "from statsmodels.tsa.stattools import adfuller\n# check for stationarity\n\ndataframes = []\ntickers = ['BAC', 'BA', 'GOOG', 'MDLZ', 'PFE']\n# for each ticker, test the time series, difference it and test again for stationarity\n# new (differenced) data is appended to a list to replace the original column\nfor ticker in tickers: \n    print(ticker)\n    temp = data[data['ticker']== ticker]\n    # check for stationarity \n    test = adfuller(temp['close'])\n    print('p-value: {}'.format(test[1]))\n    # difference to make series stationary \n    temp['close'] = temp['close'].diff()\n    #replace infinite values with null \n    temp.replace([np.inf, -np.inf, np.nan], 0, inplace = True)\n    test2 = adfuller(temp['close'])\n    print('p-value: {}'.format(test2[1]))\n    dataframes.append(temp)\n\n# concat all five data frames together\ndata = pd.concat(dataframes)",
   "execution_count": 8,
   "outputs": [
    {
     "name": "stdout",
     "text": "BAC\np-value: 0.5922909540627093\np-value: 8.639030968330125e-18\nBA\np-value: 0.3790269378974299\np-value: 0.0\nGOOG\np-value: 0.9960941578346153\np-value: 9.829176703739381e-11\nMDLZ\np-value: 0.8906323349973715\np-value: 3.1895879651697307e-18\nPFE\np-value: 0.049013573520872517\np-value: 1.7279344875653528e-10\n",
     "output_type": "stream"
    }
   ]
  },
  {
   "cell_type": "markdown",
   "source": "### Scaling \n\nWe normalize the data using sklearn's MinMaxScaler to ensure the features have a normal distribution. \n\n",
   "metadata": {
    "tags": [],
    "cell_id": "00011-39785f29-5907-45dc-aa0c-6ff3cbde424d",
    "deepnote_cell_type": "markdown"
   }
  },
  {
   "cell_type": "code",
   "metadata": {
    "tags": [],
    "cell_id": "00006-53aa8a5f-054c-4f09-9f4d-512743eb5a5f",
    "deepnote_to_be_reexecuted": false,
    "source_hash": "2da78163",
    "execution_start": 1621954336826,
    "execution_millis": 1152,
    "output_cleared": false,
    "deepnote_cell_type": "code"
   },
   "source": "from sklearn.preprocessing import MinMaxScaler\nfrom sklearn.model_selection import train_test_split\n\n# sort values and reset index \ndata = data.sort_values(by = 'Date')\ndata = data.reset_index(drop = True)\n\n# create the X and y dataframes to scale\ntemp = data.drop(columns = ['Date', 'ticker', 'close'])\ny = data[['close']]\ntemp = temp.replace(np.inf,0)\ncol_list = temp.columns\n\n# instantiate the scaler, fit and transform the feature columns\nss = MinMaxScaler(feature_range=(-1,1))\nss.fit(temp)\nscaled = ss.transform(temp)\n\n# instantiate the scaler, fit and transform the target column\nt_transformer = MinMaxScaler(feature_range=(-1,1))\nt_transformer.fit(y)\ny_trans = t_transformer.transform(y)\n\n# replace the nan's within the scaled data with zero\nnan_indices = np.where(np.isnan(scaled))\nscaled[nan_indices] = 0\n\n# create new dataframe of scaled data\nscaled = pd.DataFrame(scaled, columns = col_list)\nscaled['Date'] = data['Date']\nscaled['ticker'] = data['ticker']\nscaled['close'] = y_trans\n\n# prepapre the data for the split\nscaled['Date'] = pd.to_datetime(scaled['Date'])\nscaled.set_index('Date')\nX = scaled.drop(columns = ['close', 'high', 'low', 'adjclose','Unnamed: 0'], axis = 1)\ny = scaled['close'].values.reshape(-1, 1)\n\n#Split dataset into training set, validation and test set\n# 80% training, 10% validation, and 10% test\nX_train, X_test, y_train, y_test = train_test_split(X, y, test_size=0.2, train_size=0.8, random_state=42, shuffle = False)\n# split again \nX_valid, X_test, y_valid, y_test = train_test_split(X_test, y_test, test_size = 0.5, train_size = 0.5, random_state = 42, shuffle = False)\n",
   "execution_count": 9,
   "outputs": []
  },
  {
   "cell_type": "code",
   "metadata": {
    "tags": [],
    "cell_id": "00008-1020cee5-e386-4810-bdce-9f7a3d61b19c",
    "deepnote_to_be_reexecuted": false,
    "source_hash": "7c8cec71",
    "execution_start": 1621954337983,
    "execution_millis": 793,
    "deepnote_cell_type": "code"
   },
   "source": "stocks4 = data[['Date', 'close', 'ticker']]\n# prepare the data for visualization. \nstocks4['Date'] = pd.to_datetime(stocks4['Date'])\nstocks4.set_index('Date')\nstocks4.sort_values('Date', inplace=True)\n\n# create the distribution and box plot for the scaled data \nfig, ax = plt.subplots(1,2, figsize = (8, 4))\nsns.boxplot(x= stocks4[\"close\"], ax = ax[0])\nax[0].set_title(\"Boxplot for all stocks\")\nsns.distplot(stocks4['close'], ax = ax[1])\nax[1].set_title(\"Distribution plot for all stocks\")\nplt.tight_layout()",
   "execution_count": 10,
   "outputs": [
    {
     "data": {
      "text/plain": "<Figure size 576x288 with 2 Axes>",
      "image/png": "[encoded data removed]"
     },
     "metadata": {
      "needs_background": "light",
      "image/png": {
       "width": 568,
       "height": 280
      }
     },
     "output_type": "display_data"
    }
   ]
  },
  {
   "cell_type": "code",
   "metadata": {
    "tags": [],
    "cell_id": "00010-627bbab0-9b74-43d9-a0f0-a660deb8e8e6",
    "deepnote_to_be_reexecuted": false,
    "source_hash": "51c323af",
    "execution_start": 1621954338800,
    "execution_millis": 886,
    "deepnote_cell_type": "code"
   },
   "source": "stocks5 = data[['Date', 'open', 'high', 'low', 'close', 'ticker']]\nimport matplotlib.pyplot as plt\n# prepare the data for visualization\nstocks5['Date'] = pd.to_datetime(stocks5['Date'])\nstocks5.set_index('Date')\nstocks5.sort_values('Date', inplace=True)\npalette ={\"BAC\": \"C0\", \"MDLZ\": \"C1\", \"GOOG\": \"C2\", \"BA\": \"k\", \"PFE\": \"r\"}\n# create the figure\nplt.figure(figsize=(8,4))\nsns.lineplot(x = 'Date', y = 'close', data = stocks5, hue = 'ticker', palette = palette, legend=False)",
   "execution_count": 11,
   "outputs": [
    {
     "output_type": "execute_result",
     "execution_count": 11,
     "data": {
      "text/plain": "<AxesSubplot:xlabel='Date', ylabel='close'>"
     },
     "metadata": {}
    },
    {
     "data": {
      "text/plain": "<Figure size 576x288 with 1 Axes>",
      "image/png": "[encoded data removed]"
     },
     "metadata": {
      "needs_background": "light",
      "image/png": {
       "width": 519,
       "height": 262
      }
     },
     "output_type": "display_data"
    }
   ]
  },
  {
   "cell_type": "markdown",
   "source": "### Principal Component Analysis\n\nKernel PCA is an unsupervised learning algorithm and allows dimensionality reduction through non-linear projections.",
   "metadata": {
    "tags": [],
    "cell_id": "00014-a7c896b4-b7ac-4a7d-a02e-5a56fc9b0411",
    "deepnote_cell_type": "markdown"
   }
  },
  {
   "cell_type": "code",
   "metadata": {
    "tags": [],
    "cell_id": "00009-3cc2fd7e-ade9-4db6-b759-0b3bfd6676df",
    "deepnote_to_be_reexecuted": false,
    "source_hash": "86d9039d",
    "execution_start": 1621954339687,
    "execution_millis": 854582,
    "deepnote_cell_type": "code"
   },
   "source": "from sklearn.decomposition import KernelPCA\nfrom sklearn.model_selection import GridSearchCV\nfrom sklearn.metrics import make_scorer\nfrom sklearn.metrics import mean_squared_error\n\n# adjust the training data for the Kernel PCA\nX_train_adj = X_train.drop(columns = ['Date', 'ticker'])\nX_valid_adj = X_valid.drop(columns = ['Date', 'ticker'])\nX_test_adj = X_test.drop(columns = ['Date', 'ticker'])\n\n# create the parameter grid that is to be searched\nparam_grid = [{\n        \"gamma\": [0.001, 0.01, 1, 10],\n        \"kernel\": [\"rbf\", \"sigmoid\", \"linear\", \"poly\"]\n    }]\n\n# instantiate the PCA\npca=KernelPCA(fit_inverse_transform=True, n_jobs=-1) \n\n# define scoring methid\ndef my_scorer(estimator, X, y=None):\n    X_reduced = estimator.transform(X)\n    X_preimage = estimator.inverse_transform(X_reduced)\n    return -1 * mean_squared_error(X, X_preimage)\n\n# instantiate the Gridsearch object and fit the training data\ngrid_search = GridSearchCV(pca, param_grid, cv=3, scoring=my_scorer)\ngrid_search.fit(X_train_adj)\n\nprint(\"Parameters selected by grid search: \", grid_search.best_params_)\n\n# Apply the best model selected through grid search\n# extract the model from the grid search object\npca_model = grid_search.best_estimator_\n\n# transform the feature data \nX_train_pca = pca_model.transform(X_train_adj)\nX_valid_pca = pca_model.transform(X_valid_adj)\nX_test_pca = pca_model.transform(X_test_adj)\n\n# create new dataframes of the kernel pca data\ndata_train_pca = pd.DataFrame(X_train_pca)\ndata_valid_pca = pd.DataFrame(X_valid_pca)\ndata_test_pca = pd.DataFrame(X_test_pca)\n\n# add the date column, tickers and target values to it\ndata_train_pca['close'] = y_train\ndata_train_pca['Date'] = X_train['Date']\ndata_train_pca['ticker'] = X_train['ticker']\n\ndata_valid_pca['close'] = y_valid\nX_valid = X_valid.reset_index(drop = True)\ndata_valid_pca['Date'] = X_valid['Date']\ndata_valid_pca['ticker'] = X_valid['ticker']\n\ndata_test_pca['close'] = y_test\nX_test = X_test.reset_index(drop = True)\ndata_test_pca['Date'] = X_test['Date']\ndata_test_pca['ticker'] = X_test['ticker']\n",
   "execution_count": 12,
   "outputs": [
    {
     "name": "stdout",
     "text": "Parameters selected by grid search:  {'gamma': 1, 'kernel': 'poly'}\n",
     "output_type": "stream"
    }
   ]
  },
  {
   "cell_type": "markdown",
   "source": "### Decision Tree and Random Forest\n\nWe implemented a Random Forest Regressor and a Decision Tree to understand which features are the most important when predicting stock prices.",
   "metadata": {
    "tags": [],
    "cell_id": "00016-00c16fc8-0961-459e-9d61-cb80947aa38c",
    "deepnote_cell_type": "markdown"
   }
  },
  {
   "cell_type": "code",
   "metadata": {
    "tags": [],
    "cell_id": "00011-cd7d6948-dbed-4564-88d5-4bd3b1a4ef9f",
    "deepnote_to_be_reexecuted": false,
    "source_hash": "c2aa3bb0",
    "execution_start": 1621955194276,
    "execution_millis": 503,
    "deepnote_cell_type": "code"
   },
   "source": "# Decision Tree for Important Features\n\nfrom sklearn.tree import DecisionTreeRegressor\nfrom matplotlib import pyplot\n\n# Using scaled but not PCA data\nX_train['Date'] = pd.to_datetime(X_train['Date'],infer_datetime_format=True)\nX_train['Date']= X_train['Date'].apply(lambda x: x.toordinal())\nX_valid['Date'] = pd.to_datetime(X_valid['Date'],infer_datetime_format=True)\nX_valid['Date']= X_valid['Date'].apply(lambda x: x.toordinal())\nX_test['Date'] = pd.to_datetime(X_test['Date'],infer_datetime_format=True)\nX_test['Date']= X_test['Date'].apply(lambda x: x.toordinal())\n\n# Dummy Variables / One hot encoding (split tickers into 5 columns)\nX_train_DT = pd.get_dummies(X_train,columns=[\"ticker\"],drop_first=False)\nX_valid_DT = pd.get_dummies(X_valid,columns=[\"ticker\"],drop_first=False)\nX_test_DT = pd.get_dummies(X_test,columns=[\"ticker\"],drop_first=False)\n\n# Establish model and fit to training set\nD_tree = DecisionTreeRegressor(max_depth=30, random_state=42)\nD_tree.fit(X_train_DT, y_train)\n\n# Get R2 of model on training set versus on validation set\nprint(\"R2 of X train & y train: \", D_tree.score(X_train_DT, y_train))\nprint(\"R2 of X validate & y validate: \", D_tree.score(X_valid_DT, y_valid))\n# r2 of 1 is good, 0 is useless, and negative is horrible\n\n# Use R2 for validation set as reference to try to improve performance of model\nD_tree_adj = DecisionTreeRegressor(max_depth=5, random_state=42)\nD_tree_adj.fit(X_train_DT, y_train)\nprint(\"Adjusted model: R2 of X validate & y validate: \", D_tree_adj.score(X_valid_DT, y_valid))\nprint(\"Adjusted model: R2 of X test & y test: \", D_tree_adj.score(X_test_DT, y_test))\n\n# Plot training versus validation set\ntrain_predictions_DT = D_tree_adj.predict(X_train_DT)\ntest_predictions_DT = D_tree_adj.predict(X_valid_DT)\nplt.scatter(train_predictions_DT, y_train, label='train')\nplt.scatter(test_predictions_DT, y_valid, label='validate')\nplt.legend()\nplt.show()\n\n# Review feature importance scores by iterating through \nimportance_DT = D_tree_adj.feature_importances_\n\nfor score, name in sorted(zip(importance_DT, list(X_train_DT.columns)),reverse=True)[:54]:\n    print (name, \", Score: {:.5f}\".format(score))",
   "execution_count": 13,
   "outputs": [
    {
     "name": "stdout",
     "text": "R2 of X train & y train:  0.9796459681691083\nR2 of X validate & y validate:  -0.37337293812757477\nAdjusted model: R2 of X validate & y validate:  -0.27679681382102905\nAdjusted model: R2 of X test & y test:  -0.2776573527134216\n",
     "output_type": "stream"
    },
    {
     "data": {
      "text/plain": "<Figure size 432x288 with 1 Axes>",
      "image/png": "[encoded data removed]"
     },
     "metadata": {
      "needs_background": "light",
      "image/png": {
       "width": 386,
       "height": 248
      }
     },
     "output_type": "display_data"
    },
    {
     "name": "stdout",
     "text": "volume , Score: 0.48751\nopen , Score: 0.20617\nmv_avg_3 , Score: 0.18670\nDowJones , Score: 0.05355\nmv_avg_5 , Score: 0.04118\nDate , Score: 0.01641\nweek_day , Score: 0.00847\nticker_PFE , Score: 0.00000\nticker_MDLZ , Score: 0.00000\nticker_GOOG , Score: 0.00000\nticker_BAC , Score: 0.00000\nticker_BA , Score: 0.00000\nS&P500 , Score: 0.00000\n",
     "output_type": "stream"
    }
   ]
  },
  {
   "cell_type": "code",
   "metadata": {
    "tags": [],
    "cell_id": "00016-6da317fc-a9b4-428c-a273-62e4ace63950",
    "deepnote_to_be_reexecuted": false,
    "source_hash": "32e1f080",
    "execution_start": 1621955194814,
    "execution_millis": 5484,
    "deepnote_cell_type": "code"
   },
   "source": "# Random Forest for Important Features\n\nfrom sklearn.ensemble import RandomForestRegressor\nfrom matplotlib import pyplot\n\n# Establish model and fit to training set\nRF_tree = RandomForestRegressor(max_depth=30, random_state=42)\nRF_tree.fit(X_train_DT, y_train)\n\n# Get R2 of model on training set versus on validation set\nprint(\"R2 of X train & y train: \", RF_tree.score(X_train_DT, y_train))\nprint(\"R2 of X validate & y validate: \", RF_tree.score(X_valid_DT, y_valid))\n# r2 of 1 is good, 0 is useless, and negative is horrible\n\n# Use R2 for validation set as reference to try to improve performance of model\nRF_tree_adj = RandomForestRegressor(max_depth=3, random_state=42)\nRF_tree_adj.fit(X_train_DT, y_train)\nprint(\"Adjusted model: R2 of X validate & y validate: \", RF_tree_adj.score(X_valid_DT, y_valid))\nprint(\"Adjusted model: R2 of X test & y test: \", RF_tree_adj.score(X_test_DT, y_test))\n\n# Plot training versus validation set\ntrain_predictions_RF = RF_tree_adj.predict(X_train_DT)\ntest_predictions_RF = RF_tree_adj.predict(X_valid_DT)\nplt.scatter(train_predictions_RF, y_train, label='train')\nplt.scatter(test_predictions_RF, y_valid, label='validate')\nplt.legend()\nplt.show()\n\n# Review feature importance scores by iterating through \nimportance_RF = RF_tree_adj.feature_importances_\n\nfor score, name in sorted(zip(importance_RF, list(X_train_DT.columns)),reverse=True)[:54]:\n    print (name, \", Score: {:.5f}\".format(score))",
   "execution_count": 14,
   "outputs": [
    {
     "name": "stdout",
     "text": "R2 of X train & y train:  0.8349457359523627\nR2 of X validate & y validate:  -0.3126668008264166\nAdjusted model: R2 of X validate & y validate:  -0.20177466459806115\nAdjusted model: R2 of X test & y test:  -0.19570074505698032\n",
     "output_type": "stream"
    },
    {
     "data": {
      "text/plain": "<Figure size 432x288 with 1 Axes>",
      "image/png": "[encoded data removed]"
     },
     "metadata": {
      "needs_background": "light",
      "image/png": {
       "width": 386,
       "height": 248
      }
     },
     "output_type": "display_data"
    },
    {
     "name": "stdout",
     "text": "volume , Score: 0.27733\nmv_avg_5 , Score: 0.26351\nmv_avg_3 , Score: 0.17402\nopen , Score: 0.13359\nDate , Score: 0.09250\nDowJones , Score: 0.02719\nweek_day , Score: 0.01321\nS&P500 , Score: 0.01283\nticker_GOOG , Score: 0.00364\nticker_MDLZ , Score: 0.00218\nticker_PFE , Score: 0.00000\nticker_BAC , Score: 0.00000\nticker_BA , Score: 0.00000\n",
     "output_type": "stream"
    }
   ]
  },
  {
   "cell_type": "markdown",
   "source": "### ARIMA Model\n\nWe implement an ARIMA model to see whether the stock price can be predicted just by its previous values using a traditional forecasting method. \n",
   "metadata": {
    "tags": [],
    "cell_id": "00019-c864b199-a78f-4096-8d46-dd3ff191fb57",
    "deepnote_cell_type": "markdown"
   }
  },
  {
   "cell_type": "code",
   "metadata": {
    "tags": [],
    "cell_id": "00012-330c2098-6da5-4e4d-8460-d238b83e09e9",
    "deepnote_to_be_reexecuted": false,
    "source_hash": "636c8301",
    "execution_start": 1621955200309,
    "execution_millis": 100274,
    "deepnote_cell_type": "code"
   },
   "source": "# import the relevant packages\nimport math\nimport numpy as np\nfrom pmdarima.arima import auto_arima\nfrom pmdarima import model_selection\nfrom sklearn.metrics import mean_squared_error, mean_absolute_error\nimport time\n\nstart_time = time.time()\n\n# concat the data together again to be able to split each time series \ndata_pca = pd.concat([data_train_pca, data_valid_pca, data_test_pca])\ntickers = ['BAC', 'BA', 'GOOG', 'MDLZ', 'PFE']\n# iterature through the ticker list to calculate an ARIMA model for each stock series \nfor ticker in tickers: \n    print(ticker)\n    # filter the data to get all stock values \n    temp = data_pca[data_pca['ticker']== ticker]\n    # train/test split \n    train, test = model_selection.train_test_split(temp['close'], train_size = 0.8)\n    # fit the model \n    model = auto_arima(train)\n    # specify forecast periods \n    forecast_periods = [test.shape[0], 5]\n    # calculate the forecasts for long-term and short-term prediction horizon \n    for period in forecast_periods: \n        if period == 5: \n            print(\"Short-Term Forecasts: \")\n        else: \n            print(\"Long-Term Forecasts: \")\n        # predict\n        print(\"Number of forecast periods: \" + str(period))\n        preds = model.predict(n_periods = period, return_conf_int = False)\n        # calculate and print the RMSE and MAE \n        if period == 5: \n            mae = mean_absolute_error(test.iloc[:5,], preds)\n            rmse = np.sqrt(mean_squared_error(test.iloc[:5,],preds))\n        else:\n            mae = mean_absolute_error(test, preds)\n            rmse = np.sqrt(mean_squared_error(test,preds))\n        print('Test MAE: %.3f' % mae)\n        print('Test RMSE: %.3f' % rmse)\nprint(\"--- %s seconds ---\" % (time.time() - start_time))",
   "execution_count": 15,
   "outputs": [
    {
     "name": "stdout",
     "text": "BAC\nLong-Term Forecasts: \nNumber of forecast periods: 221\nTest MAE: 0.003\nTest RMSE: 0.004\nShort-Term Forecasts: \nNumber of forecast periods: 5\nTest MAE: 0.003\nTest RMSE: 0.004\nBA\nLong-Term Forecasts: \nNumber of forecast periods: 221\nTest MAE: 0.030\nTest RMSE: 0.040\nShort-Term Forecasts: \nNumber of forecast periods: 5\nTest MAE: 0.027\nTest RMSE: 0.030\nGOOG\nLong-Term Forecasts: \nNumber of forecast periods: 221\nTest MAE: 0.171\nTest RMSE: 0.235\nShort-Term Forecasts: \nNumber of forecast periods: 5\nTest MAE: 0.168\nTest RMSE: 0.199\nMDLZ\nLong-Term Forecasts: \nNumber of forecast periods: 221\nTest MAE: 0.003\nTest RMSE: 0.004\nShort-Term Forecasts: \nNumber of forecast periods: 5\nTest MAE: 0.006\nTest RMSE: 0.006\nPFE\nLong-Term Forecasts: \nNumber of forecast periods: 221\nTest MAE: 0.003\nTest RMSE: 0.004\nShort-Term Forecasts: \nNumber of forecast periods: 5\nTest MAE: 0.003\nTest RMSE: 0.005\n--- 100.04920387268066 seconds ---\n",
     "output_type": "stream"
    }
   ]
  },
  {
   "cell_type": "markdown",
   "source": "### Logistic Regression\n\nThe Logistic Regression classifes the data according to the target variable \"Price change\", with \"Price change\" being either an increase or decrease. ",
   "metadata": {
    "tags": [],
    "cell_id": "00022-5c47c86d-c869-476f-8eed-45fb1d2056ee",
    "deepnote_cell_type": "markdown"
   }
  },
  {
   "cell_type": "code",
   "metadata": {
    "tags": [],
    "cell_id": "00006-519b420a-3f17-4604-b795-be407844e0ae",
    "deepnote_to_be_reexecuted": false,
    "source_hash": "eae09dd3",
    "execution_start": 1621955300612,
    "execution_millis": 42407,
    "output_cleared": false,
    "deepnote_cell_type": "code"
   },
   "source": "from sklearn.linear_model import LogisticRegression\n\n#Logistic Regression\nfrom sklearn import preprocessing\nfrom sklearn import utils\nfrom sklearn import metrics\nfrom sklearn.model_selection import GridSearchCV\n\n# calculate the target variable for logistic regression \n# 1 is price increase, 0 is price decrease\n\n# sort by ticker \ndata_train_pca = data_train_pca.sort_values(by=['ticker', 'Date'])\ndata_valid_pca = data_valid_pca.sort_values(by=['ticker', 'Date'])\ndata_test_pca = data_test_pca.sort_values(by=['ticker', 'Date'] )\n\n# calculate increase/decrease\ndata_train_pca['Price change'] = (data_train_pca['close'].diff()).apply(lambda x: \"1\" if x > 0 else \"0\").shift(-1)\ndata_valid_pca['Price change'] = (data_valid_pca['close'].diff()).apply(lambda x: \"1\" if x > 0 else \"0\").shift(-1)\ndata_test_pca['Price change'] = (data_test_pca['close'].diff()).apply(lambda x: \"1\" if x > 0 else \"0\").shift(-1)\n\n# remove rows with nan from y and x \ndata_train_pca = data_train_pca.dropna(subset = ['Price change'])\ndata_valid_pca = data_valid_pca.dropna(subset = ['Price change'])\ndata_test_pca = data_test_pca.dropna(subset = ['Price change'])\n\n# prepare training, testing and validation data\nX_train_pca = data_train_pca.drop(columns = ['Date', 'close', 'ticker','Price change'])\ny_train_pca = data_train_pca['Price change']\nX_valid_pca = data_valid_pca.drop(columns = ['Date', 'close', 'ticker', 'Price change'])\ny_valid_pca = data_valid_pca['Price change']\nX_test_pca = data_test_pca.drop(columns = ['Date', 'close', 'ticker', 'Price change'])\ny_test_pca = data_test_pca['Price change']\n\n# instantiate model \nlr_model = LogisticRegression(max_iter = 1000, random_state=42)\n\n# Build GridSearch Pipeline\nparam_values = {'C': [0.001,0.01,0.1,1,10,100,1000]}\n\ngrid = GridSearchCV(lr_model, param_grid= param_values)\n# fit the model with data\n%time grid.fit(X_train_pca,y_train_pca)\n\n# evaluate the performance on the test set\ny_pred_valid = grid.predict(X_test_pca)\n\n# best estimator \ngrid.best_estimator_\n# LogisticRegression(C=0.001, max_iter=1000, random_state=42)\n\n# best parameters \ngrid.best_params_\n\n# plot the conclusion matric\nmetrics.plot_confusion_matrix(grid, X_test_pca, y_test_pca, labels = [\"0\", \"1\"])\nplt.show()\n\n# show the classification report \nclf_report = metrics.classification_report(y_test_pca, y_pred_valid, labels = [\"0\", \"1\"])\nprint(clf_report)\n\n# calculate even more metrics\nmetrics = metrics.precision_recall_fscore_support(y_test_pca, y_pred_valid)\n\n\nprint(\"Precision: \" + str(metrics[0]))\nprint(\"Recall: \" +  str(metrics[1]))\nprint(\"F-Score: \" + str(metrics[2]))\nprint(\"Support: \" + str(metrics[3]))\n",
   "execution_count": 16,
   "outputs": [
    {
     "name": "stdout",
     "text": "CPU times: user 38.1 s, sys: 24.9 s, total: 1min 3s\nWall time: 42 s\n",
     "output_type": "stream"
    },
    {
     "data": {
      "text/plain": "<Figure size 432x288 with 2 Axes>",
      "image/png": "[encoded data removed]"
     },
     "metadata": {
      "needs_background": "light",
      "image/png": {
       "width": 312,
       "height": 262
      }
     },
     "output_type": "display_data"
    },
    {
     "name": "stdout",
     "text": "              precision    recall  f1-score   support\n\n           0       0.50      0.96      0.66       278\n           1       0.37      0.03      0.05       273\n\n    accuracy                           0.50       551\n   macro avg       0.43      0.49      0.35       551\nweighted avg       0.43      0.50      0.36       551\n\nPrecision: [0.5        0.36842105]\nRecall: [0.95683453 0.02564103]\nF-Score: [0.65679012 0.04794521]\nSupport: [278 273]\n",
     "output_type": "stream"
    }
   ]
  },
  {
   "cell_type": "markdown",
   "source": "### Support Vector Regression (SVR)\n\nWe use a Support Vector Regression to predict continuous stock prices with a Support Vector Machine. ",
   "metadata": {
    "tags": [],
    "cell_id": "00024-b880e6a7-95e3-4eda-8da2-502d4bd166ba",
    "deepnote_cell_type": "markdown"
   }
  },
  {
   "cell_type": "code",
   "metadata": {
    "tags": [],
    "cell_id": "00018-acc13f6c-9373-4947-bb28-c45a57957452",
    "deepnote_to_be_reexecuted": false,
    "source_hash": "fd6610b3",
    "execution_start": 1621955343034,
    "execution_millis": 7415,
    "deepnote_cell_type": "code"
   },
   "source": "from sklearn.svm import SVR\nfrom sklearn import metrics\nfrom sklearn.model_selection import PredefinedSplit\nfrom sklearn.model_selection import RandomizedSearchCV\n\n# prepare training, testing and validation data\nX_train_svr = data_train_pca.drop(columns = ['Date', 'close', 'ticker', 'Price change'])\nX_valid_svr = data_valid_pca.drop(columns = ['Date', 'close', 'ticker', 'Price change'])\nX_test_svr = data_test_pca.drop(columns = ['Date', 'close', 'ticker', 'Price change'])\ny_train_svr = data_train_pca['close']\ny_valid_svr = data_valid_pca['close']\ny_test_svr = data_test_pca[\"close\"]\n\n\n# Set up model\nsvr = SVR()\n\nX_check_svr = pd.concat([X_train_svr, X_valid_svr], ignore_index=True)\ny_check_svr = np.concatenate((y_train_svr, y_valid_svr))\n\n# Create a list where train data indices are -1 and validation data indices are 0\nsplit_index = [-1 if x in X_train_svr.index else 0 for x in X_check_svr.index]\n\n# Use the list to create PredefinedSplit\npds = PredefinedSplit(test_fold = split_index)\n\n# Use a grid search cross-validation to explore combinations of parameters\n\nparam_grid = {'kernel': ['poly', 'rbf', 'sigmoid'],\n             'C': [0.001, 0.1, 1, 10, 100],\n             'gamma': [0.00001, 0.0001, 0.001, 0.01, 0.1, 1],\n            'epsilon': [0.01, 0.1, 1]}\n            \ngrid = RandomizedSearchCV(estimator=svr, cv=pds, param_distributions=param_grid, n_jobs = -1, random_state=42)\n\n%time grid.fit(X_check_svr, y_check_svr)\nprint(grid.best_params_)",
   "execution_count": 17,
   "outputs": [
    {
     "name": "stdout",
     "text": "CPU times: user 1.01 s, sys: 52.1 ms, total: 1.06 s\nWall time: 7.4 s\n{'kernel': 'sigmoid', 'gamma': 0.001, 'epsilon': 0.01, 'C': 1}\n",
     "output_type": "stream"
    }
   ]
  },
  {
   "cell_type": "code",
   "metadata": {
    "tags": [],
    "cell_id": "00021-09058563-08f7-4a2b-8b9e-d9ae81ac08df",
    "deepnote_to_be_reexecuted": false,
    "source_hash": "4b201e23",
    "execution_start": 1621955350453,
    "execution_millis": 90,
    "deepnote_cell_type": "code"
   },
   "source": "# Use cross-validated model to predict the labels for the test data, which the model has not yet seen:\n\nsvr_model = grid.best_estimator_\ny_pred_svr = svr_model.predict(X_test_svr)\n\nfrom sklearn.metrics import r2_score\n# regression score function, best possible score is 1\nprint(\"R2 score:\", r2_score(y_test_svr, y_pred_svr))\n\nfrom sklearn.metrics import mean_absolute_error\n# average magnitude of the errors, best possible score is 0\nprint(\"Mean absolute error:\", mean_absolute_error(y_test_svr, y_pred_svr))\n\nfrom sklearn.metrics import mean_squared_error\n# RMSE, the distance, on average, of a data point from the fitted line, measured along a vertical line.\nprint(\"Root mean squared error:\", mean_squared_error(y_test_svr, y_pred_svr, squared = False))\n\n#The RMSE will always be larger or equal to the MAE; the greater difference between them, the greater the variance in the individual errors in the sample.",
   "execution_count": 18,
   "outputs": [
    {
     "name": "stdout",
     "text": "R2 score: 0.0191881098639628\nMean absolute error: 0.04528851741697144\nRoot mean squared error: 0.11455298771054803\n",
     "output_type": "stream"
    }
   ]
  },
  {
   "cell_type": "code",
   "metadata": {
    "tags": [],
    "cell_id": "00018-fa0f1857-2b85-4b36-96d7-801879be831e",
    "deepnote_to_be_reexecuted": false,
    "source_hash": "3482a04f",
    "execution_start": 1621955350545,
    "execution_millis": 26,
    "deepnote_cell_type": "code"
   },
   "source": "# look at values of predictions versus true y test data\ncomparison = pd.DataFrame(y_test_svr)\n#comparison.rename(columns = {'close':'test'}, inplace = True)\ny_pred_svr = pd.DataFrame(y_pred_svr)\ncomparison['prediction'] = y_pred_svr\nprint(comparison)\n\nunder_pred = comparison.query('close > prediction').count()\nprint(\"Number of under predictions: \", under_pred['close'])\n\nover_pred = comparison.query('prediction > close').count()\nprint(\"Number of over predictions: \", over_pred['close'])\n\naccurate_pred = comparison.query('prediction == close').count()\nprint(\"Accurate predictions: \", accurate_pred['close'])\n\n# see an average of how much stock prices rise/fall and the min and max\npred_diff = []\npred_diff = comparison['prediction'].sub(comparison['close'], axis = 0)\nprint(\"Average of scaled stock price differences between prediction and actual close: \", pred_diff.mean())\nprint(\"Smallest difference between scaled prediction and close: \", min(abs(pred_diff)))\nprint(\"Largest difference between scaled prediction and close: \", max(abs(pred_diff)))",
   "execution_count": 19,
   "outputs": [
    {
     "name": "stdout",
     "text": "        close  prediction\n1   -0.055260   -0.026633\n4   -0.038063   -0.024971\n7   -0.019427   -0.025285\n12  -0.051878   -0.024655\n18  -0.059073   -0.024394\n..        ...         ...\n523 -0.026335   -0.016881\n529 -0.025112   -0.014778\n535 -0.026191   -0.013781\n537 -0.027342   -0.016812\n544 -0.023673   -0.016104\n\n[551 rows x 2 columns]\nNumber of under predictions:  154\nNumber of over predictions:  397\nAccurate predictions:  0\nAverage of scaled stock price differences between prediction and actual close:  -2.064976292493721e-05\nSmallest difference between scaled prediction and close:  5.000503270499723e-06\nLargest difference between scaled prediction and close:  1.0132891465361604\n",
     "output_type": "stream"
    }
   ]
  },
  {
   "cell_type": "markdown",
   "source": "### Neural Network: Long-Term Short-Term Memory (LSTM)\n\nLSTM is a type of Recurrent Neural Networks (RNN) used in the field of supervised Deep Learning and can store long-term information about the data, it is therefore better suited for long-term forecasts than ARIMA. ",
   "metadata": {
    "tags": [],
    "cell_id": "00029-c50b120f-d841-4bae-b327-43706a7cf52a",
    "deepnote_cell_type": "markdown"
   }
  },
  {
   "cell_type": "code",
   "metadata": {
    "tags": [],
    "cell_id": "00024-518428b6-1fb0-4354-99a2-ba6f5f7ce1e4",
    "deepnote_to_be_reexecuted": false,
    "source_hash": "89328b6f",
    "execution_start": 1621955350613,
    "execution_millis": 4234,
    "deepnote_cell_type": "code"
   },
   "source": "import tensorflow as tf\nfrom tensorflow import keras\nfrom tensorflow.keras import layers\nfrom tensorflow.keras import activations\n\nfrom sklearn.metrics import mean_squared_error\n#from sklearn.metrics import accuracy_score\nfrom sklearn.model_selection import train_test_split\nfrom tensorflow.keras import optimizers\nfrom sklearn import preprocessing\n#from joblib import dump, load\nimport plotly.express as px\n\n#define train, test and valid set\nX_train_f = X_train_pca\nX_test_f = X_test_pca\nX_valid_f = X_valid_pca\n\ny_train_f = data_train_pca['close']\ny_test_f = data_test_pca['close']\ny_valid_f = data_valid_pca['close']\n\n\n#create time lags\ndef create_dataset(X, y, time_steps=1):\n    Xs, ys = [], []\n    for i in range(len(X) - time_steps):\n        v = X[i:(i + time_steps)]\n        Xs.append(v)\n        ys.append(y[i + time_steps])\n    return np.array(Xs), np.array(ys)\n\ntime_steps = 30\n# reshape to [samples, time_steps, n_features]\nX_train_f, y_train_f = create_dataset(X_train_f, y_train_f, time_steps)\nX_test_f, y_test_f = create_dataset(X_test_f, y_test_f, time_steps)\n\nprint(\"*** SHAPES\")\nprint(X_train_f.shape, y_train_f.shape)\nprint(X_test_f.shape, y_test_f.shape)\n\n# Building the model\nmodel = keras.Sequential()\nmodel.add(keras.Input(shape=((X_train_f.shape[1], X_test_f.shape[2])))) #input shape\n\nmodel.add(layers.LSTM(300, return_sequences=False, activation = 'tanh'))\nmodel.add(layers.BatchNormalization())\n\nmodel.add(keras.layers.Dense(units=1))\nmodel.compile(loss='mean_squared_error', optimizer='adam')\nmodel.summary()",
   "execution_count": 20,
   "outputs": [
    {
     "name": "stdout",
     "text": "*** SHAPES\n(4384, 30, 116) (4384,)\n(521, 30, 116) (521,)\nModel: \"sequential\"\n_________________________________________________________________\nLayer (type)                 Output Shape              Param #   \n=================================================================\nlstm (LSTM)                  (None, 300)               500400    \n_________________________________________________________________\nbatch_normalization (BatchNo (None, 300)               1200      \n_________________________________________________________________\ndense (Dense)                (None, 1)                 301       \n=================================================================\nTotal params: 501,901\nTrainable params: 501,301\nNon-trainable params: 600\n_________________________________________________________________\n",
     "output_type": "stream"
    }
   ]
  },
  {
   "cell_type": "code",
   "metadata": {
    "tags": [],
    "cell_id": "00016-d767e8e5-214f-402d-be8e-69db72923bbb",
    "deepnote_to_be_reexecuted": false,
    "source_hash": "cbc46ee8",
    "execution_start": 1621955354842,
    "execution_millis": 372586,
    "output_cleared": false,
    "deepnote_cell_type": "code"
   },
   "source": "#fit the model\nhist = model.fit(X_train_f, y_train_f, batch_size = 200, epochs = 50, shuffle=False, validation_split=0.1)\n",
   "execution_count": 21,
   "outputs": [
    {
     "name": "stdout",
     "text": "Epoch 1/50\n20/20 [==============================] - 10s 414ms/step - loss: 2.0016 - val_loss: 0.0525\nEpoch 2/50\n20/20 [==============================] - 7s 362ms/step - loss: 2.2187 - val_loss: 0.0834\nEpoch 3/50\n20/20 [==============================] - 7s 362ms/step - loss: 2.1040 - val_loss: 0.0456\nEpoch 4/50\n20/20 [==============================] - 7s 354ms/step - loss: 1.6869 - val_loss: 0.0466\nEpoch 5/50\n20/20 [==============================] - 7s 353ms/step - loss: 1.0928 - val_loss: 0.0391\nEpoch 6/50\n20/20 [==============================] - 7s 353ms/step - loss: 0.8070 - val_loss: 0.0567\nEpoch 7/50\n20/20 [==============================] - 7s 357ms/step - loss: 0.6966 - val_loss: 0.0409\nEpoch 8/50\n20/20 [==============================] - 7s 358ms/step - loss: 0.5708 - val_loss: 0.2222\nEpoch 9/50\n20/20 [==============================] - 7s 357ms/step - loss: 1.1280 - val_loss: 0.1328\nEpoch 10/50\n20/20 [==============================] - 7s 355ms/step - loss: 1.6744 - val_loss: 0.3288\nEpoch 11/50\n20/20 [==============================] - 7s 353ms/step - loss: 1.1953 - val_loss: 0.0398\nEpoch 12/50\n20/20 [==============================] - 7s 358ms/step - loss: 0.5793 - val_loss: 0.3352\nEpoch 13/50\n20/20 [==============================] - 7s 357ms/step - loss: 0.5158 - val_loss: 0.1060\nEpoch 14/50\n20/20 [==============================] - 7s 355ms/step - loss: 0.3184 - val_loss: 0.1099\nEpoch 15/50\n20/20 [==============================] - 7s 359ms/step - loss: 0.2505 - val_loss: 0.0261\nEpoch 16/50\n20/20 [==============================] - 7s 356ms/step - loss: 0.2211 - val_loss: 0.0678\nEpoch 17/50\n20/20 [==============================] - 7s 347ms/step - loss: 0.0615 - val_loss: 0.0334\nEpoch 18/50\n20/20 [==============================] - 7s 356ms/step - loss: 0.0191 - val_loss: 0.0408\nEpoch 19/50\n20/20 [==============================] - 7s 347ms/step - loss: 0.0129 - val_loss: 0.0262\nEpoch 20/50\n20/20 [==============================] - 7s 353ms/step - loss: 0.0088 - val_loss: 0.0349\nEpoch 21/50\n20/20 [==============================] - 7s 356ms/step - loss: 0.0075 - val_loss: 0.0253\nEpoch 22/50\n20/20 [==============================] - 7s 353ms/step - loss: 0.0064 - val_loss: 0.0273\nEpoch 23/50\n20/20 [==============================] - 7s 356ms/step - loss: 0.0061 - val_loss: 0.0285\nEpoch 24/50\n20/20 [==============================] - 7s 363ms/step - loss: 0.0057 - val_loss: 0.0257\nEpoch 25/50\n20/20 [==============================] - 7s 357ms/step - loss: 0.0054 - val_loss: 0.0271\nEpoch 26/50\n20/20 [==============================] - 7s 356ms/step - loss: 0.0051 - val_loss: 0.0282\nEpoch 27/50\n20/20 [==============================] - 7s 354ms/step - loss: 0.0051 - val_loss: 0.0262\nEpoch 28/50\n20/20 [==============================] - 7s 356ms/step - loss: 0.0050 - val_loss: 0.0274\nEpoch 29/50\n20/20 [==============================] - 7s 365ms/step - loss: 0.0052 - val_loss: 0.0280\nEpoch 30/50\n20/20 [==============================] - 7s 376ms/step - loss: 0.0058 - val_loss: 0.0264\nEpoch 31/50\n20/20 [==============================] - 7s 371ms/step - loss: 0.0067 - val_loss: 0.0277\nEpoch 32/50\n20/20 [==============================] - 7s 359ms/step - loss: 0.0074 - val_loss: 0.0294\nEpoch 33/50\n20/20 [==============================] - 7s 372ms/step - loss: 0.0079 - val_loss: 0.0277\nEpoch 34/50\n20/20 [==============================] - 11s 575ms/step - loss: 0.0082 - val_loss: 0.0268\nEpoch 35/50\n20/20 [==============================] - 13s 665ms/step - loss: 0.0089 - val_loss: 0.0308\nEpoch 36/50\n20/20 [==============================] - 10s 483ms/step - loss: 0.0108 - val_loss: 0.0267\nEpoch 37/50\n20/20 [==============================] - 8s 383ms/step - loss: 0.0130 - val_loss: 0.0310\nEpoch 38/50\n20/20 [==============================] - 7s 353ms/step - loss: 0.0175 - val_loss: 0.0344\nEpoch 39/50\n20/20 [==============================] - 7s 359ms/step - loss: 0.0229 - val_loss: 0.0284\nEpoch 40/50\n20/20 [==============================] - 7s 356ms/step - loss: 0.0308 - val_loss: 0.0310\nEpoch 41/50\n20/20 [==============================] - 7s 353ms/step - loss: 0.0443 - val_loss: 0.0305\nEpoch 42/50\n20/20 [==============================] - 7s 353ms/step - loss: 0.0452 - val_loss: 0.0590\nEpoch 43/50\n20/20 [==============================] - 7s 354ms/step - loss: 0.0440 - val_loss: 0.0483\nEpoch 44/50\n20/20 [==============================] - 7s 353ms/step - loss: 0.0322 - val_loss: 0.0336\nEpoch 45/50\n20/20 [==============================] - 7s 355ms/step - loss: 0.0243 - val_loss: 0.0910\nEpoch 46/50\n20/20 [==============================] - 7s 357ms/step - loss: 0.0452 - val_loss: 0.0326\nEpoch 47/50\n20/20 [==============================] - 7s 358ms/step - loss: 0.0281 - val_loss: 0.1117\nEpoch 48/50\n20/20 [==============================] - 7s 358ms/step - loss: 0.0682 - val_loss: 0.0973\nEpoch 49/50\n20/20 [==============================] - 7s 358ms/step - loss: 0.0585 - val_loss: 0.0590\nEpoch 50/50\n20/20 [==============================] - 7s 355ms/step - loss: 0.0591 - val_loss: 0.1846\n",
     "output_type": "stream"
    }
   ]
  },
  {
   "cell_type": "code",
   "metadata": {
    "tags": [],
    "cell_id": "00017-4bbc8477-0195-4892-92e9-76bcb850622d",
    "deepnote_to_be_reexecuted": false,
    "source_hash": "f7120a2a",
    "execution_start": 1621955727469,
    "execution_millis": 171,
    "deepnote_cell_type": "code"
   },
   "source": "#plot loss of training and validation set\nloss = hist.history['loss']\nval_loss = hist.history['val_loss']\nepochs = range(1, len(loss) + 1)\nplt.plot(epochs, loss, 'bo', label='Training loss')\nplt.plot(epochs, val_loss, 'b', label='Validation loss')\nplt.title('Training and validation loss')\nplt.xlabel('Epochs')\nplt.ylabel('Loss')\nplt.legend()\nplt.show()",
   "execution_count": 22,
   "outputs": [
    {
     "data": {
      "text/plain": "<Figure size 432x288 with 1 Axes>",
      "image/png": "[encoded data removed]"
     },
     "metadata": {
      "needs_background": "light",
      "image/png": {
       "width": 386,
       "height": 278
      }
     },
     "output_type": "display_data"
    }
   ]
  },
  {
   "cell_type": "code",
   "metadata": {
    "tags": [],
    "cell_id": "00018-7afa8ea6-3e37-4aec-a0b9-844898533949",
    "deepnote_to_be_reexecuted": false,
    "source_hash": "4ec14dcb",
    "execution_start": 1621955727636,
    "execution_millis": 1792,
    "deepnote_cell_type": "code"
   },
   "source": "#make prediction from model\ny_pred = model.predict(X_test_f)\n\n#evaluate performance of model\ny_test_f = y_test_f.reshape(-1,1)\ny_test_inv = t_transformer.inverse_transform(y_test_f)\ny_pred_inv = t_transformer.inverse_transform(y_pred)\n\nresults = model.evaluate(X_test_f, y_test_f)\nprint(\"mse: %s\" % (mean_squared_error(y_test_inv, y_pred_inv)))\nprint(results)",
   "execution_count": 23,
   "outputs": [
    {
     "name": "stdout",
     "text": "17/17 [==============================] - 1s 32ms/step - loss: 2.3282\nmse: 44969.99433302891\n2.3281869888305664\n",
     "output_type": "stream"
    }
   ]
  },
  {
   "cell_type": "code",
   "metadata": {
    "tags": [],
    "cell_id": "00018-0b60daf1-2288-4f63-ba9e-9f2cf80947be",
    "deepnote_to_be_reexecuted": false,
    "source_hash": "85e92ac6",
    "execution_start": 1621955729427,
    "execution_millis": 1210,
    "deepnote_cell_type": "code"
   },
   "source": "#plot actual vs. predicted stock prices\na = np.repeat(1, len(y_test_f))\nb = np.repeat(2, len(y_pred))\n\n# prepare data for visualization \ndf1 = pd.DataFrame(data = np.concatenate((y_test_inv,(np.reshape(a, (-1, 1)))),axis=1), columns=[\"price\",\"type\"])\ndf2 = pd.DataFrame(data = np.concatenate((y_pred_inv,(np.reshape(b, (-1, 1)))),axis=1), columns=[\"price\",\"type\"])\n\nframes = [df1, df2]\nresult = pd.concat(frames, ignore_index=False)\n\nresult[\"type\"].replace({1: \"actual\", 2: \"predict\"}, inplace=True)\n(result[result.type == \"actual\"]).head(10)\n\n# create figure\nfig = px.line(result, x=result.index.values, y=\"price\", color='type', title='Stock Price')\nfig.show()",
   "execution_count": 24,
   "outputs": [
    {
     "data": {
      "text/html": "<html>\n<head><meta charset=\"utf-8\" /></head>\n<body>\n    <div>            <script src=\"https://cdnjs.cloudflare.com/ajax/libs/mathjax/2.7.5/MathJax.js?config=TeX-AMS-MML_SVG\"></script><script type=\"text/javascript\">if (window.MathJax) {MathJax.Hub.Config({SVG: {font: \"STIX-Web\"}});}</script>                <script type=\"text/javascript\">window.PlotlyConfig = {MathJaxConfig: 'local'};</script>\n        <script src=\"https://cdn.plot.ly/plotly-latest.min.js\"></script>                <div id=\"f114c863-2eb4-4679-9591-5b462552c46e\" class=\"plotly-graph-div\" style=\"height:525px; width:100%;\"></div>            <script type=\"text/javascript\">                                    window.PLOTLYENV=window.PLOTLYENV || {};                                    if (document.getElementById(\"f114c863-2eb4-4679-9591-5b462552c46e\")) {                    Plotly.newPlot(                        \"f114c863-2eb4-4679-9591-5b462552c46e\",                        [{\"hovertemplate\": \"type=actual<br>x=%{x}<br>price=%{y}<extra></extra>\", \"legendgroup\": \"actual\", \"line\": {\"color\": \"#636efa\", \"dash\": \"solid\"}, \"mode\": \"lines\", \"name\": \"actual\", \"showlegend\": true, \"type\": \"scattergl\", \"x\": [0, 1, 2, 3, 4, 5, 6, 7, 8, 9, 10, 11, 12, 13, 14, 15, 16, 17, 18, 19, 20, 21, 22, 23, 24, 25, 26, 27, 28, 29, 30, 31, 32, 33, 34, 35, 36, 37, 38, 39, 40, 41, 42, 43, 44, 45, 46, 47, 48, 49, 50, 51, 52, 53, 54, 55, 56, 57, 58, 59, 60, 61, 62, 63, 64, 65, 66, 67, 68, 69, 70, 71, 72, 73, 74, 75, 76, 77, 78, 79, 80, 81, 82, 83, 84, 85, 86, 87, 88, 89, 90, 91, 92, 93, 94, 95, 96, 97, 98, 99, 100, 101, 102, 103, 104, 105, 106, 107, 108, 109, 110, 111, 112, 113, 114, 115, 116, 117, 118, 119, 120, 121, 122, 123, 124, 125, 126, 127, 128, 129, 130, 131, 132, 133, 134, 135, 136, 137, 138, 139, 140, 141, 142, 143, 144, 145, 146, 147, 148, 149, 150, 151, 152, 153, 154, 155, 156, 157, 158, 159, 160, 161, 162, 163, 164, 165, 166, 167, 168, 169, 170, 171, 172, 173, 174, 175, 176, 177, 178, 179, 180, 181, 182, 183, 184, 185, 186, 187, 188, 189, 190, 191, 192, 193, 194, 195, 196, 197, 198, 199, 200, 201, 202, 203, 204, 205, 206, 207, 208, 209, 210, 211, 212, 213, 214, 215, 216, 217, 218, 219, 220, 221, 222, 223, 224, 225, 226, 227, 228, 229, 230, 231, 232, 233, 234, 235, 236, 237, 238, 239, 240, 241, 242, 243, 244, 245, 246, 247, 248, 249, 250, 251, 252, 253, 254, 255, 256, 257, 258, 259, 260, 261, 262, 263, 264, 265, 266, 267, 268, 269, 270, 271, 272, 273, 274, 275, 276, 277, 278, 279, 280, 281, 282, 283, 284, 285, 286, 287, 288, 289, 290, 291, 292, 293, 294, 295, 296, 297, 298, 299, 300, 301, 302, 303, 304, 305, 306, 307, 308, 309, 310, 311, 312, 313, 314, 315, 316, 317, 318, 319, 320, 321, 322, 323, 324, 325, 326, 327, 328, 329, 330, 331, 332, 333, 334, 335, 336, 337, 338, 339, 340, 341, 342, 343, 344, 345, 346, 347, 348, 349, 350, 351, 352, 353, 354, 355, 356, 357, 358, 359, 360, 361, 362, 363, 364, 365, 366, 367, 368, 369, 370, 371, 372, 373, 374, 375, 376, 377, 378, 379, 380, 381, 382, 383, 384, 385, 386, 387, 388, 389, 390, 391, 392, 393, 394, 395, 396, 397, 398, 399, 400, 401, 402, 403, 404, 405, 406, 407, 408, 409, 410, 411, 412, 413, 414, 415, 416, 417, 418, 419, 420, 421, 422, 423, 424, 425, 426, 427, 428, 429, 430, 431, 432, 433, 434, 435, 436, 437, 438, 439, 440, 441, 442, 443, 444, 445, 446, 447, 448, 449, 450, 451, 452, 453, 454, 455, 456, 457, 458, 459, 460, 461, 462, 463, 464, 465, 466, 467, 468, 469, 470, 471, 472, 473, 474, 475, 476, 477, 478, 479, 480, 481, 482, 483, 484, 485, 486, 487, 488, 489, 490, 491, 492, 493, 494, 495, 496, 497, 498, 499, 500, 501, 502, 503, 504, 505, 506, 507, 508, 509, 510, 511, 512, 513, 514, 515, 516, 517, 518, 519, 520], \"xaxis\": \"x\", \"y\": [-0.299999237060547, 1.069999694824219, -0.6399993896484374, -0.5299987792968465, -0.5200004577636721, -0.5300006866455076, -15.869995117187502, 0.8400001525878905, 8.8800048828125, 0.18999862670897724, 0.6999969482421807, 0.910003662109375, 6.469970703125, 0.5000000000000001, -0.09000015258789058, -0.1699981689453053, -2.5400085449218466, 37.23999023437499, 0.1700000762939452, 0.4200019836425854, -0.45000076293945296, -1.0599975585937498, 0.1600036621093466, -0.11999893188476198, 0.18000030517578117, -17.369995117187496, 0.22999954223632835, -0.030000686645511285, -19.199951171875, -0.45000076293945296, 0.41999816894531233, -0.30999755859374983, 12.3599853515625, 0.3299999237060544, 0.4700012207031249, 0.06999969482421865, -2.610000610351591, -0.5500030517578126, -23.6400146484375, 0.0, -0.27999877929687506, -11.339996337890597, 0.22999954223633173, 0.3799972534179617, 0.06000137329101582, 8.910003662109375, 12.6800537109375, 1.8900012969970668, -5.630004882812499, -0.3199996948242117, -0.11000061035156253, -0.6000061035156251, 0.709999084472656, 51.95996093750001, -0.11000061035156253, 0.1900024414062498, 1.6800079345703125, -0.33000183105468756, 0.43000030517577426, -2.810012817382784, 0.06999969482421865, 19.9599609375, 0.5400009155273435, -1.0999984741210869, -3.110000610351591, -40.489990234375, 0.6399993896484374, -0.5900001525878907, 0.22999954223632835, 0.5900001525878907, 1.620010375976534, -20.169921875, -0.20000076293945312, -1.199996948242159, -0.31999969482421897, 7.8499755859375, 0.04999923706054671, 2.699996948242159, 0.5300025939941407, -14.219970703125002, -0.11000061035156253, -0.059997558593750014, -0.09000015258789058, -5.5899963378905975, -0.04999923706054671, -3.9901123046875, -0.9800033569335936, 6.3899993896484375, 0.029998779296874764, -0.08000183105468728, 54.6700439453125, -0.2399978637695312, -0.04000091552735063, -0.22999954223632835, 96.0400390625, 0.7399902343750001, -0.43000030517578147, -4.039993286132841, -0.02000045776367194, -0.9799995422363216, 4.3499755859375, -0.5699996948242188, 0.06999969482421865, -0.22000122070312506, 0.13000106811523446, 9.800048828125, -1.5700073242186938, -2.479995727539062, 0.7299995422363352, -1.6500244140624998, -0.3899993896484376, 0.6199989318847655, 0.7200012207031252, -1.300003051757869, 0.030002593994133343, -0.21999931335449238, 17.8399658203125, -1.110000610351566, -86.449951171875, -1.0699996948242183, -1.1700019836425781, -8.029998779296847, 32.3199462890625, 3.199996948242159, -0.38000106811523426, 0.4899997711181675, 0.7000007629394532, -27.369995117187496, 0.04000091552734388, -0.670000076293942, -1.680000305175788, -3.039993286132784, 0.3099994659423791, -0.18999862670897724, 1.6499938964844034, 65.60998535156227, -0.10000228881835922, 5.100006103515597, 1.0700016021728516, 0.9099998474121092, 26.160034179687727, -0.8099975585937504, 6.4499969482421875, 0.5499992370605434, -0.8800010681152272, 142.56005859375, -0.15000152587890642, 0.920000076293949, 0.7200012207031179, -7.699951171875, 0.04999923706054671, 3.25, 0.029998779296874764, 0.20999908447265642, -2.710006713867187, -0.13000106811523446, 35.6298828125, 4.0200042724609375, -5.090087890625, 0.7200012207031252, -0.09999847412109389, -0.18999862670898449, -9.39990234375, 0.15000152587890642, 3.1699981689453125, -0.1399993896484373, -0.5200004577636721, -3.1999969482421875, 0.029998779296874764, 11.869873046875, -0.22999954223632835, -0.2499999999999998, -1.2599945068359655, -0.09999847412109389, 0.5100097656249999, -0.3100013732910156, 0.43000030517578147, -0.49000167846680404, 0.2900009155273437, 0.48999786376953103, 8.22021484375, 0.31999206542968733, 17.789794921875, 0.9000015258789064, -0.30999755859374306, -0.030002593994140576, 6.199996948242216, 0.1399993896484373, 0.03999710083007807, 6.41015625, 0.20000076293945312, -1.6599884033203411, 1.210002899169922, -11.110107421875, -0.32999801635742176, -0.22000122070312506, -7.040008544921875, 8.990005493164091, -1.8199996948242183, -0.12000274658203117, 0.35000228881835954, -16.06005859375, -4.589996337890625, 0.009998321533203305, -0.18000030517578117, 0.6100006103515626, -36.260009765625, 0.3699989318847656, 0.4799995422363282, -0.3499984741210937, -0.7600097656250002, 5.980224609375, -0.46999740600585954, 0.8600006103515625, 17.220001220703153, -0.15999984741210924, 24.309814453125, 0.06999969482421865, -0.2900009155273437, -12.889999389648466, -0.45000076293945296, -63.8099365234375, -1.2200012207031252, -0.32999801635742176, -4.440002441406222, 5.5, -0.8800010681152349, 44.6500244140625, 0.5000000000000001, 1.0800018310546875, 12.380004882812472, 0.1999969482421873, -0.2600021362304689, -1.2500000000000004, -5.669921875, 0.02000045776367194, -0.18000030517578117, 0.8899993896484373, -49.130126953125, 0.8800010681152344, -0.7400016784668039, 5.419998168945284, -0.18999862670898449, 1.020000457763679, 22.380126953125, -3.8499908447265345, 0.08000183105468728, 0.18999862670898449, 1.6200027465820312, 59.449951171875, -1.4900054931640618, 0.43000030517578147, 0.80999755859375, 0.20000076293945312, -84.3699951171875, -0.04000091552734388, -0.43000030517578147, 0.46999740600585954, 28.5299072265625, 6.580001831054716, 0.10000228881835922, -0.8100013732910157, 0.4799995422363282, 1.0499992370605469, 0.5699996948242115, 14.729995727539062, 2.330078125, 59.739990234375, 6.660003662109347, 0.08000183105469451, -0.12999725341796867, -0.22000122070312506, 17.19000244140625, 0.599998474121094, -52.85009765625, 0.6999969482421807, 0.22999954223632835, -3.55999755859375, 4.570068359375001, 0.4700012207031249, 0.36000061035156233, -0.18999862670897724, 26.030029296875, 0.4200019836425782, 0.5499992370605541, -10.419998168945312, -0.11000061035156253, -0.04000091552734388, 0.13999938964843053, -1.4399414062500002, 0.3100013732910156, 8.379989624023438, -54.860107421875, -0.009998321533203305, 0.9899978637695239, -7.529998779296931, -0.02000045776367194, 6.97998046875, 0.18999862670897724, -0.40999984741209505, -0.23999023437494316, -0.24000167846679699, -0.869998931884773, 0.7400016784668039, -4.6099853515625, -4.590011596679716, 0.4700012207031249, -0.6399993896484374, -0.24000167846680376, 14.3699951171875, -9.979995727539034, -0.7599983215332032, 0.2499999999999998, -0.5399971008300709, 0.0, -7.899902343750001, -2.0099945068359095, -0.7000732421874998, 0.7599983215332032, 0.059997558593750014, 7.949996948242159, 0.5000000000000001, 1.0200004577636717, -8.8099365234375, -2.3200073242187496, 0.8799972534179619, 0.5800018310546874, -0.3699989318847656, 0.7400016784668039, 20.39990234375, 5.650009155273409, 0.3699989318847656, -1.4000015258788998, -0.5099983215332029, -0.4099121093750002, 0.6800003051757812, 1.4899902343750568, 13.08984375, 2.710006713867159, -0.2499999999999998, 0.11999893188476583, -0.30000305175781955, -0.09000015258790506, 0.06999969482421865, 0.8000030517578197, 69.1201171875, -1.7599945068359373, -0.020000457763664707, 0.30999755859374983, 87.800048828125, 6.3999786376953125, 0.38000106811524154, -0.22999954223633512, -4.1899871826171875, -0.8000488281250002, 0.27000045776367176, -0.11000061035156976, -0.1399993896484373, 0.3600006103515696, 0.09999847412108666, 24.929931640625, -2.589996337890625, 15.760009765625, 0.04999923706054671, -0.2099990844726492, -0.3499984741210937, 2.3699951171875, -2.589996337890596, 20.43994140625, -0.1300010681152417, 0.6399993896484302, 0.2900009155273437, -31.08984375, -2.8399963378906823, -0.23999786376952395, 0.06999969482421865, 0.3700027465820382, -0.7400016784667967, 3.75, 0.07999801635741471, 12.47998046875, 0.18999862670898449, -0.8400115966796591, 0.5600013732910155, -12.429931640625, -0.3699989318847584, 0.009998321533203305, -1.1399993896484375, 0.43000030517577426, -1.319992065429659, 0.3899993896484376, 41.81982421875, 0.06000137329101582, -2.93000793457034, 0.9700012207031322, 0.40999984741210954, 1.10009765625, -0.08000183105469451, 4.639892578125, -4.0299987792968475, 0.36000061035156233, 0.01999664306640613, 0.09999847412110065, -8.77001953125, -1.089996337890625, 0.5200004577636788, -10.089996337890682, 0.36000061035156233, 1.860000610351591, -0.3398437499999999, 0.5000000000000001, 0.6399993896484374, -0.36000061035156233, -1.5899963378906246, -0.02000045776367194, -0.8899993896484449, -25.3701171875, 0.02000045776367194, -0.04000091552734388, 47.380126953125, 4.0500030517578125, 0.8199996948242186, 11.43994140625, -0.7399978637695312, 3.0599975585937496, 0.22999954223632835, 0.02000045776367194, -0.22999954223632835, 0.4700012207031249, 1.029998779296875, -19.619873046875, -0.04999923706054671, 2.1599998474121094, 0.36000061035156233, 72.789794921875, -7.009994506835937, 0.14999771118164784, -0.21000289916992898, 1.0800018310546804, 0.029998779296874764, 49.97998046875001, 0.4799957275390624, -19.769775390625, -0.09999847412109389, 0.05000305175781975, -0.5800018310546806, -1.6300048828125282, 0.599998474121094, -14.9501953125, 1.1800003051757815, 0.030002593994133343, 0.8800048828125282, 0.11999893188476583, -1.5599975585937504, -0.6699981689453126, -40.919921875, 0.4399986267089843, 0.3899993896484376, 0.02000045776367194, -5.45001220703125, 0.3999977111816404, 2.489990234375, 1.6300048828124716, 0.6199989318847655, 24.610107421875, 0.5800018310546874, -0.7800025939941482, 0.17000198364257835, 17.33984375, 0.3900032043457102, 0.12999725341796142, 5.660003662109403, -57.030029296875, 0.27999877929687506, -2.5400085449218754, -0.13000106811523446, 0.2200012207031323, -4.04998779296875, -0.11999893188476583, -0.510002136230476, -32.89990234375, -0.4799995422363282, 0.3400001525878904, -69.679931640625, -8.100006103515625, -0.3899993896484376, -0.3899993896484376, 0.6599998474121094, 0.40999984741210954, 0.8299980163574219, 22.889892578125, 1.8600006103515625, -0.02000045776367194, -0.07999801635741471, 0.5200004577636721, 54.18994140625, 5.8300018310546875, -0.4900054931640911, 5.25, 0.09000015258789058, 0.10000228881835922, 0.38000106811523426, -0.4299926757812214, -0.5800018310546874, -17.97998046875, -0.06000137329101582, -0.2900009155273437, -0.21999740600585924, 0.15999984741210924, -3.1300048828125, -0.18999862670898449, 5.280029296875, -0.10000228881835922, 47.380126953125, 0.2899971008300779, 3.229995727539091, 0.7700004577636719, 0.2499999999999998, 0.5300025939941407, -10.989990234375, 7.170013427734347], \"yaxis\": \"y\"}, {\"hovertemplate\": \"type=predict<br>x=%{x}<br>price=%{y}<extra></extra>\", \"legendgroup\": \"predict\", \"line\": {\"color\": \"#EF553B\", \"dash\": \"solid\"}, \"mode\": \"lines\", \"name\": \"predict\", \"showlegend\": true, \"type\": \"scattergl\", \"x\": [0, 1, 2, 3, 4, 5, 6, 7, 8, 9, 10, 11, 12, 13, 14, 15, 16, 17, 18, 19, 20, 21, 22, 23, 24, 25, 26, 27, 28, 29, 30, 31, 32, 33, 34, 35, 36, 37, 38, 39, 40, 41, 42, 43, 44, 45, 46, 47, 48, 49, 50, 51, 52, 53, 54, 55, 56, 57, 58, 59, 60, 61, 62, 63, 64, 65, 66, 67, 68, 69, 70, 71, 72, 73, 74, 75, 76, 77, 78, 79, 80, 81, 82, 83, 84, 85, 86, 87, 88, 89, 90, 91, 92, 93, 94, 95, 96, 97, 98, 99, 100, 101, 102, 103, 104, 105, 106, 107, 108, 109, 110, 111, 112, 113, 114, 115, 116, 117, 118, 119, 120, 121, 122, 123, 124, 125, 126, 127, 128, 129, 130, 131, 132, 133, 134, 135, 136, 137, 138, 139, 140, 141, 142, 143, 144, 145, 146, 147, 148, 149, 150, 151, 152, 153, 154, 155, 156, 157, 158, 159, 160, 161, 162, 163, 164, 165, 166, 167, 168, 169, 170, 171, 172, 173, 174, 175, 176, 177, 178, 179, 180, 181, 182, 183, 184, 185, 186, 187, 188, 189, 190, 191, 192, 193, 194, 195, 196, 197, 198, 199, 200, 201, 202, 203, 204, 205, 206, 207, 208, 209, 210, 211, 212, 213, 214, 215, 216, 217, 218, 219, 220, 221, 222, 223, 224, 225, 226, 227, 228, 229, 230, 231, 232, 233, 234, 235, 236, 237, 238, 239, 240, 241, 242, 243, 244, 245, 246, 247, 248, 249, 250, 251, 252, 253, 254, 255, 256, 257, 258, 259, 260, 261, 262, 263, 264, 265, 266, 267, 268, 269, 270, 271, 272, 273, 274, 275, 276, 277, 278, 279, 280, 281, 282, 283, 284, 285, 286, 287, 288, 289, 290, 291, 292, 293, 294, 295, 296, 297, 298, 299, 300, 301, 302, 303, 304, 305, 306, 307, 308, 309, 310, 311, 312, 313, 314, 315, 316, 317, 318, 319, 320, 321, 322, 323, 324, 325, 326, 327, 328, 329, 330, 331, 332, 333, 334, 335, 336, 337, 338, 339, 340, 341, 342, 343, 344, 345, 346, 347, 348, 349, 350, 351, 352, 353, 354, 355, 356, 357, 358, 359, 360, 361, 362, 363, 364, 365, 366, 367, 368, 369, 370, 371, 372, 373, 374, 375, 376, 377, 378, 379, 380, 381, 382, 383, 384, 385, 386, 387, 388, 389, 390, 391, 392, 393, 394, 395, 396, 397, 398, 399, 400, 401, 402, 403, 404, 405, 406, 407, 408, 409, 410, 411, 412, 413, 414, 415, 416, 417, 418, 419, 420, 421, 422, 423, 424, 425, 426, 427, 428, 429, 430, 431, 432, 433, 434, 435, 436, 437, 438, 439, 440, 441, 442, 443, 444, 445, 446, 447, 448, 449, 450, 451, 452, 453, 454, 455, 456, 457, 458, 459, 460, 461, 462, 463, 464, 465, 466, 467, 468, 469, 470, 471, 472, 473, 474, 475, 476, 477, 478, 479, 480, 481, 482, 483, 484, 485, 486, 487, 488, 489, 490, 491, 492, 493, 494, 495, 496, 497, 498, 499, 500, 501, 502, 503, 504, 505, 506, 507, 508, 509, 510, 511, 512, 513, 514, 515, 516, 517, 518, 519, 520], \"xaxis\": \"x\", \"y\": [-125.57007598876953, -134.04888916015625, -156.66110229492188, -163.86326599121094, -133.73948669433594, -127.78841400146484, -137.35247802734375, -156.4730224609375, -161.6017303466797, -144.5320281982422, -137.01002502441406, -142.88113403320312, -157.02859497070312, -156.4590301513672, -149.59393310546875, -143.43984985351562, -149.41197204589844, -152.4024658203125, -151.75613403320312, -139.1173095703125, -147.57171630859375, -168.19613647460938, -174.83836364746094, -166.3579864501953, -150.70437622070312, -155.13690185546875, -177.71385192871094, -187.08872985839844, -183.87413024902344, -169.23287963867188, -172.1956024169922, -188.03387451171875, -196.6939697265625, -217.04025268554688, -202.04872131347656, -199.2602081298828, -205.26426696777344, -201.0552520751953, -216.55787658691406, -195.75216674804688, -190.4049072265625, -198.07327270507812, -195.610107421875, -223.50563049316406, -198.71234130859375, -187.9473114013672, -188.55821228027344, -218.0771026611328, -203.61888122558594, -196.11790466308594, -191.2079620361328, -176.7030029296875, -222.467041015625, -198.08053588867188, -185.92501831054688, -178.1222686767578, -162.86521911621094, -226.12936401367188, -202.87997436523438, -185.35775756835938, -176.66415405273438, -156.13546752929688, -227.98329162597656, -194.48745727539062, -181.8030548095703, -173.06809997558594, -155.35940551757812, -231.4456024169922, -204.72068786621094, -183.57949829101562, -172.7574462890625, -148.5305938720703, -251.0523681640625, -213.72616577148438, -191.4058380126953, -183.09127807617188, -158.17494201660156, -243.72613525390625, -204.08351135253906, -186.33656311035156, -172.46559143066406, -158.95486450195312, -225.20396423339844, -174.65989685058594, -170.05458068847656, -189.693115234375, -203.57168579101562, -226.95675659179688, -198.30706787109375, -196.80076599121094, -217.94529724121094, -247.09207153320312, -233.12181091308594, -229.4247283935547, -232.63595581054688, -272.0268859863281, -253.62295532226562, -245.93032836914062, -253.83702087402344, -256.6872253417969, -285.1306457519531, -266.0788879394531, -260.7469177246094, -263.8565368652344, -265.2803039550781, -262.1580505371094, -256.7864990234375, -265.47198486328125, -273.7989807128906, -303.0878601074219, -307.7996826171875, -303.1484375, -309.77740478515625, -313.342041015625, -325.319091796875, -320.9349670410156, -309.76373291015625, -306.9788513183594, -308.604248046875, -340.7310485839844, -341.21624755859375, -328.1343078613281, -332.4253845214844, -335.789794921875, -351.4395446777344, -325.2074890136719, -309.7904357910156, -275.0242919921875, -313.89630126953125, -309.14404296875, -294.0768737792969, -281.0327453613281, -275.92779541015625, -322.333740234375, -314.11651611328125, -287.9315185546875, -276.1590270996094, -279.7917785644531, -328.60662841796875, -299.5146484375, -281.1956481933594, -279.07513427734375, -286.042236328125, -358.60528564453125, -327.00653076171875, -292.94403076171875, -270.7709655761719, -270.5874328613281, -338.907470703125, -307.7197265625, -284.69970703125, -287.4314880371094, -327.98577880859375, -393.392822265625, -336.9217834472656, -295.4097900390625, -300.1120300292969, -397.3630065917969, -329.448974609375, -285.8331604003906, -281.3865661621094, -309.3614501953125, -391.04400634765625, -316.435546875, -264.0970764160156, -259.9851379394531, -234.2036590576172, -356.3596496582031, -279.9674987792969, -226.53932189941406, -214.9623260498047, -229.55535888671875, -366.4399719238281, -281.838134765625, -230.74366760253906, -217.36788940429688, -217.20362854003906, -362.1200256347656, -279.8993225097656, -225.12925720214844, -202.27590942382812, -183.48329162597656, -360.3325500488281, -267.8282165527344, -210.2016143798828, -188.25743103027344, -179.716552734375, -347.3633117675781, -269.8612976074219, -222.6207733154297, -197.4698028564453, -187.5504913330078, -322.5240783691406, -329.1976013183594, -333.39703369140625, -326.48028564453125, -327.9949951171875, -296.2842102050781, -130.4391632080078, 19.490846633911133, 100.43269348144531, -19.080312728881836, -63.879024505615234, -142.53759765625, -157.78973388671875, -193.9018096923828, -67.84796905517578, 1.7996165752410889, 2.866732358932495, -2.5050458908081055, 30.604259490966797, -5.641641139984131, -50.25932312011719, -81.44623565673828, -93.60969543457031, -48.00062561035156, -63.244049072265625, -77.9305648803711, -77.47148895263672, -28.640321731567383, -28.333574295043945, -40.09025573730469, -53.698036193847656, -56.31412887573242, -27.617816925048828, -32.80356216430664, -58.98517608642578, -81.48191833496094, -95.47406768798828, -65.02783966064453, -68.5584945678711, -94.0038833618164, -115.15499877929688, -123.52267456054688, -87.19248962402344, -102.12598419189453, -121.47352600097656, -128.33474731445312, -92.88448333740234, -80.56565856933594, -93.40613555908203, -102.31922149658203, -98.08847045898438, -68.63993835449219, -61.620914459228516, -77.68165588378906, -88.12120056152344, -93.06175994873047, -72.15889739990234, -57.869590759277344, -73.67230224609375, -85.16967010498047, -97.9034194946289, -76.48265075683594, -63.981021881103516, -80.09860229492188, -96.6296615600586, -102.34771728515625, -89.17271423339844, -68.29949188232422, -80.60990142822266, -91.06403350830078, -97.4096450805664, -81.47172546386719, -65.975830078125, -78.07124328613281, -93.55776977539062, -106.98759460449219, -100.45557403564453, -124.09053802490234, -153.84320068359375, -156.439697265625, -163.67672729492188, -159.99539184570312, -169.9212188720703, -157.80055236816406, -133.2342529296875, -116.12036895751953, -112.67195129394531, -119.87171936035156, -134.8033447265625, -142.2982635498047, -86.19336700439453, -104.37222290039062, -114.44540405273438, -110.70951080322266, -131.9657440185547, -72.02165222167969, -114.4462661743164, -122.38111877441406, -133.40692138671875, -173.9191131591797, -97.54755401611328, -147.3423614501953, -174.42727661132812, -207.25057983398438, -242.08450317382812, -208.139404296875, -252.29150390625, -256.20880126953125, -265.6611328125, -271.850341796875, -86.8003921508789, -118.03289794921875, -68.64210510253906, 21.304460525512695, 103.66027069091797, 140.0351104736328, 199.46861267089844, 215.9305877685547, 215.48178100585938, 154.550048828125, 109.04357147216797, 61.79238510131836, -17.34072494506836, -120.98184967041016, -184.6249542236328, -223.76962280273438, -251.52452087402344, -273.93902587890625, -271.58721923828125, -257.91058349609375, -241.1190948486328, -220.3036651611328, -192.9159393310547, -148.5535430908203, -158.12637329101562, -141.23257446289062, -131.95150756835938, -118.27386474609375, -128.3211669921875, -129.00511169433594, -132.28721618652344, -138.3107452392578, -131.78102111816406, -134.25381469726562, -138.74549865722656, -141.81582641601562, -144.40188598632812, -129.71151733398438, -148.14093017578125, -149.96092224121094, -149.6154327392578, -148.7412872314453, -131.9548797607422, -149.37158203125, -139.82626342773438, -135.7710418701172, -123.26246643066406, -149.2090606689453, -146.5348358154297, -147.8084716796875, -146.31439208984375, -136.97824096679688, -160.29766845703125, -156.16348266601562, -154.99148559570312, -157.3167266845703, -149.41224670410156, -182.02699279785156, -174.3419952392578, -169.2771453857422, -160.24534606933594, -144.76165771484375, -192.18914794921875, -181.934326171875, -173.16314697265625, -162.87950134277344, -151.92958068847656, -204.4271240234375, -186.9206085205078, -177.45143127441406, -168.46546936035156, -150.9451141357422, -209.47410583496094, -190.7371063232422, -177.7244415283203, -164.0049285888672, -236.2069854736328, -227.64059448242188, -212.60211181640625, -184.82199096679688, -146.93313598632812, -238.50157165527344, -212.91632080078125, -194.26986694335938, -163.38308715820312, -126.492431640625, -239.00567626953125, -206.44329833984375, -185.32131958007812, -157.31578063964844, -121.3664779663086, -240.92465209960938, -203.96583557128906, -185.4239959716797, -155.35560607910156, -124.78948974609375, -246.05474853515625, -209.86361694335938, -185.9998779296875, -152.26451110839844, -110.21131896972656, -255.54652404785156, -207.3677978515625, -179.23573303222656, -152.1801300048828, -118.7919692993164, -248.60032653808594, -201.03701782226562, -178.02243041992188, -148.9847869873047, -120.87632751464844, -242.85336303710938, -182.5381317138672, -180.36305236816406, -201.55763244628906, -215.3594207763672, -237.43556213378906, -210.18296813964844, -206.8734130859375, -217.00074768066406, -245.9329071044922, -234.054443359375, -226.14242553710938, -226.6751251220703, -262.5574035644531, -248.84046936035156, -243.87664794921875, -241.9700164794922, -226.994384765625, -250.1946258544922, -238.88653564453125, -233.78131103515625, -231.56539916992188, -221.2486114501953, -223.28189086914062, -214.01663208007812, -214.46429443359375, -208.35430908203125, -222.96327209472656, -223.33753967285156, -223.21156311035156, -224.04563903808594, -220.80540466308594, -232.44744873046875, -231.7596435546875, -234.01206970214844, -240.9301300048828, -235.30746459960938, -264.0960693359375, -255.3455047607422, -245.46278381347656, -240.2888946533203, -227.52342224121094, -239.04457092285156, -223.3856658935547, -214.92315673828125, -204.9677276611328, -240.34239196777344, -231.9199981689453, -227.54710388183594, -223.95884704589844, -217.5279998779297, -254.38491821289062, -243.66104125976562, -232.49049377441406, -233.70863342285156, -228.2608642578125, -273.2851257324219, -260.83935546875, -248.97987365722656, -236.56591796875, -214.5581512451172, -274.8467712402344, -257.1502380371094, -240.21485900878906, -225.7340545654297, -214.54051208496094, -278.4859619140625, -257.2548522949219, -241.69813537597656, -226.58438110351562, -209.54058837890625, -284.9527893066406, -259.7509765625, -241.3006134033203, -222.17935180664062, -319.7381896972656, -296.1020202636719, -270.839111328125, -236.76861572265625, -201.9798126220703, -308.5430603027344, -275.1200256347656, -247.2109832763672, -212.016357421875, -185.55709838867188, -306.67169189453125, -263.60791015625, -234.6089630126953, -203.24488830566406, -165.14834594726562, -302.1561279296875, -257.1549987792969, -227.22203063964844, -192.67225646972656, -162.43087768554688, -320.74285888671875, -268.5784606933594, -227.90748596191406, -192.10047912597656, -148.28628540039062, -327.95556640625, -264.32623291015625, -220.78956604003906, -190.00955200195312, -158.0869903564453, -315.4330139160156, -257.8241271972656, -223.8615264892578], \"yaxis\": \"y\"}],                        {\"legend\": {\"title\": {\"text\": \"type\"}, \"tracegroupgap\": 0}, \"template\": {\"data\": {\"bar\": [{\"error_x\": {\"color\": \"#2a3f5f\"}, \"error_y\": {\"color\": \"#2a3f5f\"}, \"marker\": {\"line\": {\"color\": \"#E5ECF6\", \"width\": 0.5}}, \"type\": \"bar\"}], \"barpolar\": [{\"marker\": {\"line\": {\"color\": \"#E5ECF6\", \"width\": 0.5}}, \"type\": \"barpolar\"}], \"carpet\": [{\"aaxis\": {\"endlinecolor\": \"#2a3f5f\", \"gridcolor\": \"white\", \"linecolor\": \"white\", \"minorgridcolor\": \"white\", \"startlinecolor\": \"#2a3f5f\"}, \"baxis\": {\"endlinecolor\": \"#2a3f5f\", \"gridcolor\": \"white\", \"linecolor\": \"white\", \"minorgridcolor\": \"white\", \"startlinecolor\": \"#2a3f5f\"}, \"type\": \"carpet\"}], \"choropleth\": [{\"colorbar\": {\"outlinewidth\": 0, \"ticks\": \"\"}, \"type\": \"choropleth\"}], \"contour\": [{\"colorbar\": {\"outlinewidth\": 0, \"ticks\": \"\"}, \"colorscale\": [[0.0, \"#0d0887\"], [0.1111111111111111, \"#46039f\"], [0.2222222222222222, \"#7201a8\"], [0.3333333333333333, \"#9c179e\"], [0.4444444444444444, \"#bd3786\"], [0.5555555555555556, \"#d8576b\"], [0.6666666666666666, \"#ed7953\"], [0.7777777777777778, \"#fb9f3a\"], [0.8888888888888888, \"#fdca26\"], [1.0, \"#f0f921\"]], \"type\": \"contour\"}], \"contourcarpet\": [{\"colorbar\": {\"outlinewidth\": 0, \"ticks\": \"\"}, \"type\": \"contourcarpet\"}], \"heatmap\": [{\"colorbar\": {\"outlinewidth\": 0, \"ticks\": \"\"}, \"colorscale\": [[0.0, \"#0d0887\"], [0.1111111111111111, \"#46039f\"], [0.2222222222222222, \"#7201a8\"], [0.3333333333333333, \"#9c179e\"], [0.4444444444444444, \"#bd3786\"], [0.5555555555555556, \"#d8576b\"], [0.6666666666666666, \"#ed7953\"], [0.7777777777777778, \"#fb9f3a\"], [0.8888888888888888, \"#fdca26\"], [1.0, \"#f0f921\"]], \"type\": \"heatmap\"}], \"heatmapgl\": [{\"colorbar\": {\"outlinewidth\": 0, \"ticks\": \"\"}, \"colorscale\": [[0.0, \"#0d0887\"], [0.1111111111111111, \"#46039f\"], [0.2222222222222222, \"#7201a8\"], [0.3333333333333333, \"#9c179e\"], [0.4444444444444444, \"#bd3786\"], [0.5555555555555556, \"#d8576b\"], [0.6666666666666666, \"#ed7953\"], [0.7777777777777778, \"#fb9f3a\"], [0.8888888888888888, \"#fdca26\"], [1.0, \"#f0f921\"]], \"type\": \"heatmapgl\"}], \"histogram\": [{\"marker\": {\"colorbar\": {\"outlinewidth\": 0, \"ticks\": \"\"}}, \"type\": \"histogram\"}], \"histogram2d\": [{\"colorbar\": {\"outlinewidth\": 0, \"ticks\": \"\"}, \"colorscale\": [[0.0, \"#0d0887\"], [0.1111111111111111, \"#46039f\"], [0.2222222222222222, \"#7201a8\"], [0.3333333333333333, \"#9c179e\"], [0.4444444444444444, \"#bd3786\"], [0.5555555555555556, \"#d8576b\"], [0.6666666666666666, \"#ed7953\"], [0.7777777777777778, \"#fb9f3a\"], [0.8888888888888888, \"#fdca26\"], [1.0, \"#f0f921\"]], \"type\": \"histogram2d\"}], \"histogram2dcontour\": [{\"colorbar\": {\"outlinewidth\": 0, \"ticks\": \"\"}, \"colorscale\": [[0.0, \"#0d0887\"], [0.1111111111111111, \"#46039f\"], [0.2222222222222222, \"#7201a8\"], [0.3333333333333333, \"#9c179e\"], [0.4444444444444444, \"#bd3786\"], [0.5555555555555556, \"#d8576b\"], [0.6666666666666666, \"#ed7953\"], [0.7777777777777778, \"#fb9f3a\"], [0.8888888888888888, \"#fdca26\"], [1.0, \"#f0f921\"]], \"type\": \"histogram2dcontour\"}], \"mesh3d\": [{\"colorbar\": {\"outlinewidth\": 0, \"ticks\": \"\"}, \"type\": \"mesh3d\"}], \"parcoords\": [{\"line\": {\"colorbar\": {\"outlinewidth\": 0, \"ticks\": \"\"}}, \"type\": \"parcoords\"}], \"pie\": [{\"automargin\": true, \"type\": \"pie\"}], \"scatter\": [{\"marker\": {\"colorbar\": {\"outlinewidth\": 0, \"ticks\": \"\"}}, \"type\": \"scatter\"}], \"scatter3d\": [{\"line\": {\"colorbar\": {\"outlinewidth\": 0, \"ticks\": \"\"}}, \"marker\": {\"colorbar\": {\"outlinewidth\": 0, \"ticks\": \"\"}}, \"type\": \"scatter3d\"}], \"scattercarpet\": [{\"marker\": {\"colorbar\": {\"outlinewidth\": 0, \"ticks\": \"\"}}, \"type\": \"scattercarpet\"}], \"scattergeo\": [{\"marker\": {\"colorbar\": {\"outlinewidth\": 0, \"ticks\": \"\"}}, \"type\": \"scattergeo\"}], \"scattergl\": [{\"marker\": {\"colorbar\": {\"outlinewidth\": 0, \"ticks\": \"\"}}, \"type\": \"scattergl\"}], \"scattermapbox\": [{\"marker\": {\"colorbar\": {\"outlinewidth\": 0, \"ticks\": \"\"}}, \"type\": \"scattermapbox\"}], \"scatterpolar\": [{\"marker\": {\"colorbar\": {\"outlinewidth\": 0, \"ticks\": \"\"}}, \"type\": \"scatterpolar\"}], \"scatterpolargl\": [{\"marker\": {\"colorbar\": {\"outlinewidth\": 0, \"ticks\": \"\"}}, \"type\": \"scatterpolargl\"}], \"scatterternary\": [{\"marker\": {\"colorbar\": {\"outlinewidth\": 0, \"ticks\": \"\"}}, \"type\": \"scatterternary\"}], \"surface\": [{\"colorbar\": {\"outlinewidth\": 0, \"ticks\": \"\"}, \"colorscale\": [[0.0, \"#0d0887\"], [0.1111111111111111, \"#46039f\"], [0.2222222222222222, \"#7201a8\"], [0.3333333333333333, \"#9c179e\"], [0.4444444444444444, \"#bd3786\"], [0.5555555555555556, \"#d8576b\"], [0.6666666666666666, \"#ed7953\"], [0.7777777777777778, \"#fb9f3a\"], [0.8888888888888888, \"#fdca26\"], [1.0, \"#f0f921\"]], \"type\": \"surface\"}], \"table\": [{\"cells\": {\"fill\": {\"color\": \"#EBF0F8\"}, \"line\": {\"color\": \"white\"}}, \"header\": {\"fill\": {\"color\": \"#C8D4E3\"}, \"line\": {\"color\": \"white\"}}, \"type\": \"table\"}]}, \"layout\": {\"annotationdefaults\": {\"arrowcolor\": \"#2a3f5f\", \"arrowhead\": 0, \"arrowwidth\": 1}, \"autotypenumbers\": \"strict\", \"coloraxis\": {\"colorbar\": {\"outlinewidth\": 0, \"ticks\": \"\"}}, \"colorscale\": {\"diverging\": [[0, \"#8e0152\"], [0.1, \"#c51b7d\"], [0.2, \"#de77ae\"], [0.3, \"#f1b6da\"], [0.4, \"#fde0ef\"], [0.5, \"#f7f7f7\"], [0.6, \"#e6f5d0\"], [0.7, \"#b8e186\"], [0.8, \"#7fbc41\"], [0.9, \"#4d9221\"], [1, \"#276419\"]], \"sequential\": [[0.0, \"#0d0887\"], [0.1111111111111111, \"#46039f\"], [0.2222222222222222, \"#7201a8\"], [0.3333333333333333, \"#9c179e\"], [0.4444444444444444, \"#bd3786\"], [0.5555555555555556, \"#d8576b\"], [0.6666666666666666, \"#ed7953\"], [0.7777777777777778, \"#fb9f3a\"], [0.8888888888888888, \"#fdca26\"], [1.0, \"#f0f921\"]], \"sequentialminus\": [[0.0, \"#0d0887\"], [0.1111111111111111, \"#46039f\"], [0.2222222222222222, \"#7201a8\"], [0.3333333333333333, \"#9c179e\"], [0.4444444444444444, \"#bd3786\"], [0.5555555555555556, \"#d8576b\"], [0.6666666666666666, \"#ed7953\"], [0.7777777777777778, \"#fb9f3a\"], [0.8888888888888888, \"#fdca26\"], [1.0, \"#f0f921\"]]}, \"colorway\": [\"#636efa\", \"#EF553B\", \"#00cc96\", \"#ab63fa\", \"#FFA15A\", \"#19d3f3\", \"#FF6692\", \"#B6E880\", \"#FF97FF\", \"#FECB52\"], \"font\": {\"color\": \"#2a3f5f\"}, \"geo\": {\"bgcolor\": \"white\", \"lakecolor\": \"white\", \"landcolor\": \"#E5ECF6\", \"showlakes\": true, \"showland\": true, \"subunitcolor\": \"white\"}, \"hoverlabel\": {\"align\": \"left\"}, \"hovermode\": \"closest\", \"mapbox\": {\"style\": \"light\"}, \"paper_bgcolor\": \"white\", \"plot_bgcolor\": \"#E5ECF6\", \"polar\": {\"angularaxis\": {\"gridcolor\": \"white\", \"linecolor\": \"white\", \"ticks\": \"\"}, \"bgcolor\": \"#E5ECF6\", \"radialaxis\": {\"gridcolor\": \"white\", \"linecolor\": \"white\", \"ticks\": \"\"}}, \"scene\": {\"xaxis\": {\"backgroundcolor\": \"#E5ECF6\", \"gridcolor\": \"white\", \"gridwidth\": 2, \"linecolor\": \"white\", \"showbackground\": true, \"ticks\": \"\", \"zerolinecolor\": \"white\"}, \"yaxis\": {\"backgroundcolor\": \"#E5ECF6\", \"gridcolor\": \"white\", \"gridwidth\": 2, \"linecolor\": \"white\", \"showbackground\": true, \"ticks\": \"\", \"zerolinecolor\": \"white\"}, \"zaxis\": {\"backgroundcolor\": \"#E5ECF6\", \"gridcolor\": \"white\", \"gridwidth\": 2, \"linecolor\": \"white\", \"showbackground\": true, \"ticks\": \"\", \"zerolinecolor\": \"white\"}}, \"shapedefaults\": {\"line\": {\"color\": \"#2a3f5f\"}}, \"ternary\": {\"aaxis\": {\"gridcolor\": \"white\", \"linecolor\": \"white\", \"ticks\": \"\"}, \"baxis\": {\"gridcolor\": \"white\", \"linecolor\": \"white\", \"ticks\": \"\"}, \"bgcolor\": \"#E5ECF6\", \"caxis\": {\"gridcolor\": \"white\", \"linecolor\": \"white\", \"ticks\": \"\"}}, \"title\": {\"x\": 0.05}, \"xaxis\": {\"automargin\": true, \"gridcolor\": \"white\", \"linecolor\": \"white\", \"ticks\": \"\", \"title\": {\"standoff\": 15}, \"zerolinecolor\": \"white\", \"zerolinewidth\": 2}, \"yaxis\": {\"automargin\": true, \"gridcolor\": \"white\", \"linecolor\": \"white\", \"ticks\": \"\", \"title\": {\"standoff\": 15}, \"zerolinecolor\": \"white\", \"zerolinewidth\": 2}}}, \"title\": {\"text\": \"Stock Price\"}, \"xaxis\": {\"anchor\": \"y\", \"domain\": [0.0, 1.0], \"title\": {\"text\": \"x\"}}, \"yaxis\": {\"anchor\": \"x\", \"domain\": [0.0, 1.0], \"title\": {\"text\": \"price\"}}},                        {\"responsive\": true}                    ).then(function(){\n                            \nvar gd = document.getElementById('f114c863-2eb4-4679-9591-5b462552c46e');\nvar x = new MutationObserver(function (mutations, observer) {{\n        var display = window.getComputedStyle(gd).display;\n        if (!display || display === 'none') {{\n            console.log([gd, 'removed!']);\n            Plotly.purge(gd);\n            observer.disconnect();\n        }}\n}});\n\n// Listen for the removal of the full notebook cells\nvar notebookContainer = gd.closest('#notebook-container');\nif (notebookContainer) {{\n    x.observe(notebookContainer, {childList: true});\n}}\n\n// Listen for the clearing of the current output cell\nvar outputEl = gd.closest('.output');\nif (outputEl) {{\n    x.observe(outputEl, {childList: true});\n}}\n\n                        })                };                            </script>        </div>\n</body>\n</html>"
     },
     "metadata": {},
     "output_type": "display_data"
    }
   ]
  },
  {
   "cell_type": "markdown",
   "source": "<a style='text-decoration:none;line-height:16px;display:flex;color:#5B5B62;padding:10px;justify-content:end;' href='https://deepnote.com?utm_source=created-in-deepnote-cell&projectId=0c40d680-c720-488b-84aa-395d60b39534' target=\"_blank\">\n<img alt='Created in deepnote.com' style='display:inline;max-height:16px;margin:0px;margin-right:7.5px;' src='data:image/svg+xml;base64,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' > </img>\nCreated in <span style='font-weight:600;margin-left:4px;'>Deepnote</span></a>",
   "metadata": {
    "tags": [],
    "created_in_deepnote_cell": true,
    "deepnote_cell_type": "markdown"
   }
  }
 ],
 "nbformat": 4,
 "nbformat_minor": 2,
 "metadata": {
  "orig_nbformat": 2,
  "deepnote": {
   "is_reactive": false
  },
  "deepnote_notebook_id": "28fb5011-b124-4569-a6a4-9a49ba7cade2",
  "deepnote_execution_queue": []
 }
}